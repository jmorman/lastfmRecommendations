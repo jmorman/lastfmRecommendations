{
 "metadata": {
  "name": ""
 },
 "nbformat": 3,
 "nbformat_minor": 0,
 "worksheets": [
  {
   "cells": [
    {
     "cell_type": "code",
     "collapsed": false,
     "input": [
      "%matplotlib inline\n",
      "import numpy as np\n",
      "import matplotlib.pyplot as plt\n",
      "import pandas as pd\n",
      "import seaborn as sns"
     ],
     "language": "python",
     "metadata": {},
     "outputs": [],
     "prompt_number": 5
    },
    {
     "cell_type": "code",
     "collapsed": false,
     "input": [
      "sns.set()"
     ],
     "language": "python",
     "metadata": {},
     "outputs": [],
     "prompt_number": 6
    },
    {
     "cell_type": "code",
     "collapsed": false,
     "input": [
      "df = pd.read_csv(\"./lastfm-dataset-360K/usersha1-artmbid-artname-plays.tsv\", nrows=100000, sep='\\t')\n",
      "df.head()"
     ],
     "language": "python",
     "metadata": {},
     "outputs": [
      {
       "html": [
        "<div style=\"max-height:1000px;max-width:1500px;overflow:auto;\">\n",
        "<table border=\"1\" class=\"dataframe\">\n",
        "  <thead>\n",
        "    <tr style=\"text-align: right;\">\n",
        "      <th></th>\n",
        "      <th>user_id</th>\n",
        "      <th>artist_id</th>\n",
        "      <th>artist_name</th>\n",
        "      <th>num_plays</th>\n",
        "    </tr>\n",
        "  </thead>\n",
        "  <tbody>\n",
        "    <tr>\n",
        "      <th>0</th>\n",
        "      <td> 00000c289a1829a808ac09c00daf10bc3c4e223b</td>\n",
        "      <td> 3bd73256-3905-4f3a-97e2-8b341527f805</td>\n",
        "      <td>      betty blowtorch</td>\n",
        "      <td> 2137</td>\n",
        "    </tr>\n",
        "    <tr>\n",
        "      <th>1</th>\n",
        "      <td> 00000c289a1829a808ac09c00daf10bc3c4e223b</td>\n",
        "      <td> f2fb0ff0-5679-42ec-a55c-15109ce6e320</td>\n",
        "      <td>            die \u00c4rzte</td>\n",
        "      <td> 1099</td>\n",
        "    </tr>\n",
        "    <tr>\n",
        "      <th>2</th>\n",
        "      <td> 00000c289a1829a808ac09c00daf10bc3c4e223b</td>\n",
        "      <td> b3ae82c2-e60b-4551-a76d-6620f1b456aa</td>\n",
        "      <td>    melissa etheridge</td>\n",
        "      <td>  897</td>\n",
        "    </tr>\n",
        "    <tr>\n",
        "      <th>3</th>\n",
        "      <td> 00000c289a1829a808ac09c00daf10bc3c4e223b</td>\n",
        "      <td> 3d6bbeb7-f90e-4d10-b440-e153c0d10b53</td>\n",
        "      <td>            elvenking</td>\n",
        "      <td>  717</td>\n",
        "    </tr>\n",
        "    <tr>\n",
        "      <th>4</th>\n",
        "      <td> 00000c289a1829a808ac09c00daf10bc3c4e223b</td>\n",
        "      <td> bbd2ffd7-17f4-4506-8572-c1ea58c3f9a8</td>\n",
        "      <td> juliette &amp; the licks</td>\n",
        "      <td>  706</td>\n",
        "    </tr>\n",
        "  </tbody>\n",
        "</table>\n",
        "<p>5 rows \u00d7 4 columns</p>\n",
        "</div>"
       ],
       "metadata": {},
       "output_type": "pyout",
       "prompt_number": 7,
       "text": [
        "                                    user_id  \\\n",
        "0  00000c289a1829a808ac09c00daf10bc3c4e223b   \n",
        "1  00000c289a1829a808ac09c00daf10bc3c4e223b   \n",
        "2  00000c289a1829a808ac09c00daf10bc3c4e223b   \n",
        "3  00000c289a1829a808ac09c00daf10bc3c4e223b   \n",
        "4  00000c289a1829a808ac09c00daf10bc3c4e223b   \n",
        "\n",
        "                              artist_id           artist_name  num_plays  \n",
        "0  3bd73256-3905-4f3a-97e2-8b341527f805       betty blowtorch       2137  \n",
        "1  f2fb0ff0-5679-42ec-a55c-15109ce6e320             die \u00c4rzte       1099  \n",
        "2  b3ae82c2-e60b-4551-a76d-6620f1b456aa     melissa etheridge        897  \n",
        "3  3d6bbeb7-f90e-4d10-b440-e153c0d10b53             elvenking        717  \n",
        "4  bbd2ffd7-17f4-4506-8572-c1ea58c3f9a8  juliette & the licks        706  \n",
        "\n",
        "[5 rows x 4 columns]"
       ]
      }
     ],
     "prompt_number": 7
    },
    {
     "cell_type": "code",
     "collapsed": false,
     "input": [
      "import time\n",
      "#Since we don't have user ratings, we'll use log(#listens) as a proxy\n",
      "df['log_listens'] = df['num_plays'].map(lambda x: np.log(x))\n",
      "#Maybe we can optimize computing user averages if it is true that the df is sorted by users, as it seems to be\n",
      "#(This is done in lastfmMR notebook)\n",
      "#Vanilla method takes 10 min with 100k row sample\n",
      "#500k: 228 min\n",
      "start_time = time.time()\n",
      "df['user_avg'] = df['user_id'].map(lambda x: df[df.user_id == x].log_listens.mean())\n",
      "end_time = time.time()\n",
      "print \"Took \" + str(end_time - start_time) + \" seconds\""
     ],
     "language": "python",
     "metadata": {},
     "outputs": [
      {
       "output_type": "stream",
       "stream": "stdout",
       "text": [
        "Took 755.966351986 seconds\n"
       ]
      }
     ],
     "prompt_number": 8
    },
    {
     "cell_type": "code",
     "collapsed": false,
     "input": [
      "#Write out csv for small data frame which contains the new columns for quick testing\n",
      "#No header and index to facilitate use with MapReduce\n",
      "#Only use artists with mbids, and throw out artist names\n",
      "with_mbid_df = df[df.artist_id.map(lambda x: isinstance(x, str))]\n",
      "print len(with_mbid_df)\n",
      "with_mbid_df[0:1000][['user_id', 'artist_id', 'log_listens', 'user_avg']].to_csv(\"1k_with_added_cols.csv\", \n",
      "                                                                                  index=False, header=False)\n",
      "with_mbid_df[0:10000][['user_id', 'artist_id', 'log_listens', 'user_avg']].to_csv(\"10k_with_added_cols.csv\", \n",
      "                                                                                  index=False, header=False)\n",
      "with_mbid_df[0:50000][['user_id', 'artist_id', 'log_listens', 'user_avg']].to_csv(\"50k_with_added_cols.csv\", \n",
      "                                                                                  index=False, header=False)"
     ],
     "language": "python",
     "metadata": {},
     "outputs": [
      {
       "output_type": "stream",
       "stream": "stdout",
       "text": [
        "98760\n"
       ]
      }
     ],
     "prompt_number": 9
    },
    {
     "cell_type": "code",
     "collapsed": false,
     "input": [
      "df[0:10]"
     ],
     "language": "python",
     "metadata": {},
     "outputs": [
      {
       "html": [
        "<div style=\"max-height:1000px;max-width:1500px;overflow:auto;\">\n",
        "<table border=\"1\" class=\"dataframe\">\n",
        "  <thead>\n",
        "    <tr style=\"text-align: right;\">\n",
        "      <th></th>\n",
        "      <th>user_id</th>\n",
        "      <th>artist_id</th>\n",
        "      <th>artist_name</th>\n",
        "      <th>num_plays</th>\n",
        "      <th>log_listens</th>\n",
        "      <th>user_avg</th>\n",
        "    </tr>\n",
        "  </thead>\n",
        "  <tbody>\n",
        "    <tr>\n",
        "      <th>0</th>\n",
        "      <td> 00000c289a1829a808ac09c00daf10bc3c4e223b</td>\n",
        "      <td> 3bd73256-3905-4f3a-97e2-8b341527f805</td>\n",
        "      <td>         betty blowtorch</td>\n",
        "      <td> 2137</td>\n",
        "      <td> 7.667158</td>\n",
        "      <td> 5.591514</td>\n",
        "    </tr>\n",
        "    <tr>\n",
        "      <th>1</th>\n",
        "      <td> 00000c289a1829a808ac09c00daf10bc3c4e223b</td>\n",
        "      <td> f2fb0ff0-5679-42ec-a55c-15109ce6e320</td>\n",
        "      <td>               die \u00c4rzte</td>\n",
        "      <td> 1099</td>\n",
        "      <td> 7.002156</td>\n",
        "      <td> 5.591514</td>\n",
        "    </tr>\n",
        "    <tr>\n",
        "      <th>2</th>\n",
        "      <td> 00000c289a1829a808ac09c00daf10bc3c4e223b</td>\n",
        "      <td> b3ae82c2-e60b-4551-a76d-6620f1b456aa</td>\n",
        "      <td>       melissa etheridge</td>\n",
        "      <td>  897</td>\n",
        "      <td> 6.799056</td>\n",
        "      <td> 5.591514</td>\n",
        "    </tr>\n",
        "    <tr>\n",
        "      <th>3</th>\n",
        "      <td> 00000c289a1829a808ac09c00daf10bc3c4e223b</td>\n",
        "      <td> 3d6bbeb7-f90e-4d10-b440-e153c0d10b53</td>\n",
        "      <td>               elvenking</td>\n",
        "      <td>  717</td>\n",
        "      <td> 6.575076</td>\n",
        "      <td> 5.591514</td>\n",
        "    </tr>\n",
        "    <tr>\n",
        "      <th>4</th>\n",
        "      <td> 00000c289a1829a808ac09c00daf10bc3c4e223b</td>\n",
        "      <td> bbd2ffd7-17f4-4506-8572-c1ea58c3f9a8</td>\n",
        "      <td>    juliette &amp; the licks</td>\n",
        "      <td>  706</td>\n",
        "      <td> 6.559615</td>\n",
        "      <td> 5.591514</td>\n",
        "    </tr>\n",
        "    <tr>\n",
        "      <th>5</th>\n",
        "      <td> 00000c289a1829a808ac09c00daf10bc3c4e223b</td>\n",
        "      <td> 8bfac288-ccc5-448d-9573-c33ea2aa5c30</td>\n",
        "      <td>   red hot chili peppers</td>\n",
        "      <td>  691</td>\n",
        "      <td> 6.538140</td>\n",
        "      <td> 5.591514</td>\n",
        "    </tr>\n",
        "    <tr>\n",
        "      <th>6</th>\n",
        "      <td> 00000c289a1829a808ac09c00daf10bc3c4e223b</td>\n",
        "      <td> 6531c8b1-76ea-4141-b270-eb1ac5b41375</td>\n",
        "      <td>                  magica</td>\n",
        "      <td>  545</td>\n",
        "      <td> 6.300786</td>\n",
        "      <td> 5.591514</td>\n",
        "    </tr>\n",
        "    <tr>\n",
        "      <th>7</th>\n",
        "      <td> 00000c289a1829a808ac09c00daf10bc3c4e223b</td>\n",
        "      <td> 21f3573f-10cf-44b3-aeaa-26cccd8448b5</td>\n",
        "      <td> the black dahlia murder</td>\n",
        "      <td>  507</td>\n",
        "      <td> 6.228511</td>\n",
        "      <td> 5.591514</td>\n",
        "    </tr>\n",
        "    <tr>\n",
        "      <th>8</th>\n",
        "      <td> 00000c289a1829a808ac09c00daf10bc3c4e223b</td>\n",
        "      <td> c5db90c4-580d-4f33-b364-fbaa5a3a58b5</td>\n",
        "      <td>             the murmurs</td>\n",
        "      <td>  424</td>\n",
        "      <td> 6.049733</td>\n",
        "      <td> 5.591514</td>\n",
        "    </tr>\n",
        "    <tr>\n",
        "      <th>9</th>\n",
        "      <td> 00000c289a1829a808ac09c00daf10bc3c4e223b</td>\n",
        "      <td> 0639533a-0402-40ba-b6e0-18b067198b73</td>\n",
        "      <td>              lunachicks</td>\n",
        "      <td>  403</td>\n",
        "      <td> 5.998937</td>\n",
        "      <td> 5.591514</td>\n",
        "    </tr>\n",
        "  </tbody>\n",
        "</table>\n",
        "<p>10 rows \u00d7 6 columns</p>\n",
        "</div>"
       ],
       "metadata": {},
       "output_type": "pyout",
       "prompt_number": 10,
       "text": [
        "                                    user_id  \\\n",
        "0  00000c289a1829a808ac09c00daf10bc3c4e223b   \n",
        "1  00000c289a1829a808ac09c00daf10bc3c4e223b   \n",
        "2  00000c289a1829a808ac09c00daf10bc3c4e223b   \n",
        "3  00000c289a1829a808ac09c00daf10bc3c4e223b   \n",
        "4  00000c289a1829a808ac09c00daf10bc3c4e223b   \n",
        "5  00000c289a1829a808ac09c00daf10bc3c4e223b   \n",
        "6  00000c289a1829a808ac09c00daf10bc3c4e223b   \n",
        "7  00000c289a1829a808ac09c00daf10bc3c4e223b   \n",
        "8  00000c289a1829a808ac09c00daf10bc3c4e223b   \n",
        "9  00000c289a1829a808ac09c00daf10bc3c4e223b   \n",
        "\n",
        "                              artist_id              artist_name  num_plays  \\\n",
        "0  3bd73256-3905-4f3a-97e2-8b341527f805          betty blowtorch       2137   \n",
        "1  f2fb0ff0-5679-42ec-a55c-15109ce6e320                die \u00c4rzte       1099   \n",
        "2  b3ae82c2-e60b-4551-a76d-6620f1b456aa        melissa etheridge        897   \n",
        "3  3d6bbeb7-f90e-4d10-b440-e153c0d10b53                elvenking        717   \n",
        "4  bbd2ffd7-17f4-4506-8572-c1ea58c3f9a8     juliette & the licks        706   \n",
        "5  8bfac288-ccc5-448d-9573-c33ea2aa5c30    red hot chili peppers        691   \n",
        "6  6531c8b1-76ea-4141-b270-eb1ac5b41375                   magica        545   \n",
        "7  21f3573f-10cf-44b3-aeaa-26cccd8448b5  the black dahlia murder        507   \n",
        "8  c5db90c4-580d-4f33-b364-fbaa5a3a58b5              the murmurs        424   \n",
        "9  0639533a-0402-40ba-b6e0-18b067198b73               lunachicks        403   \n",
        "\n",
        "   log_listens  user_avg  \n",
        "0     7.667158  5.591514  \n",
        "1     7.002156  5.591514  \n",
        "2     6.799056  5.591514  \n",
        "3     6.575076  5.591514  \n",
        "4     6.559615  5.591514  \n",
        "5     6.538140  5.591514  \n",
        "6     6.300786  5.591514  \n",
        "7     6.228511  5.591514  \n",
        "8     6.049733  5.591514  \n",
        "9     5.998937  5.591514  \n",
        "\n",
        "[10 rows x 6 columns]"
       ]
      }
     ],
     "prompt_number": 10
    },
    {
     "cell_type": "code",
     "collapsed": false,
     "input": [
      "#Similarity measure used here for recommendation is based on pearson coefficent\n",
      "from scipy.stats.stats import pearsonr\n",
      "def pearson_sim(artist1_listeners, artist2_listeners, n_common):\n",
      "    if n_common==0:\n",
      "        rho=0.\n",
      "    else:\n",
      "        diff1=artist1_listeners['log_listens']-artist1_listeners['user_avg']\n",
      "        diff2=artist2_listeners['log_listens']-artist2_listeners['user_avg']\n",
      "        rho=pearsonr(diff1, diff2)[0]\n",
      "    return rho"
     ],
     "language": "python",
     "metadata": {},
     "outputs": [],
     "prompt_number": 11
    },
    {
     "cell_type": "code",
     "collapsed": false,
     "input": [
      "def calculate_similarity(artist1_id, artist2_id, df, similarity_func):\n",
      "    # find common listeners\n",
      "    artist1_listeners = df[df.artist_id==artist1_id].user_id\n",
      "    artist2_listeners = df[df.artist_id==artist2_id].user_id\n",
      "    common_listeners = set(artist1_listeners).intersection(artist2_listeners)\n",
      "    n_common=len(common_listeners)\n",
      "\n",
      "    artist1_listens = df[(df.user_id.isin(common_listeners)) & (df.artist_id==artist1_id)]\n",
      "    artist2_listens = df[(df.user_id.isin(common_listeners)) & (df.artist_id==artist2_id)]\n",
      "    sim=similarity_func(artist1_listens, artist2_listens, n_common)\n",
      "    if np.isnan(sim):\n",
      "        return 0, n_common\n",
      "    return sim, n_common"
     ],
     "language": "python",
     "metadata": {},
     "outputs": [],
     "prompt_number": 12
    },
    {
     "cell_type": "code",
     "collapsed": false,
     "input": [
      "#Since we're using a small subset of the dataset here, we'll focus on making recommendations based on the most\n",
      "#popular artists. First we need to find the most popular artists.\n",
      "#Takes a minute or so for 50k rows\n",
      "#500k rows: ~30 min\n",
      "artists_listeners_counts = [(artist, len(df[df.artist_name == artist])) for artist in df.artist_name.unique()] "
     ],
     "language": "python",
     "metadata": {},
     "outputs": [],
     "prompt_number": 13
    },
    {
     "cell_type": "code",
     "collapsed": false,
     "input": [
      "from operator import itemgetter\n",
      "artists_listeners_counts.sort(key=itemgetter(1), reverse=True)\n",
      "print artists_listeners_counts[0:50]"
     ],
     "language": "python",
     "metadata": {},
     "outputs": [
      {
       "output_type": "stream",
       "stream": "stdout",
       "text": [
        "[('radiohead', 433), ('the beatles', 405), ('coldplay', 363), ('red hot chili peppers', 298), ('muse', 255), ('metallica', 240), ('nirvana', 234), ('linkin park', 225), ('system of a down', 221), ('the killers', 218), ('pink floyd', 218), ('daft punk', 199), ('depeche mode', 197), ('u2', 192), ('placebo', 186), ('the cure', 186), ('death cab for cutie', 184), ('queen', 182), ('sigur r\\xc3\\xb3s', 182), ('bob dylan', 180), ('nine inch nails', 177), ('air', 172), ('led zeppelin', 172), ('green day', 172), ('arctic monkeys', 171), ('foo fighters', 169), ('rammstein', 168), ('kanye west', 166), ('amy winehouse', 165), ('johnny cash', 165), ('the rolling stones', 159), ('bj\\xc3\\xb6rk', 159), ('david bowie', 159), ('the prodigy', 157), ('moby', 156), ('the white stripes', 154), ('portishead', 152), ('kings of leon', 151), ('bloc party', 149), ('massive attack', 148), ('oasis', 147), ('jack johnson', 144), ('blink-182', 143), ('nightwish', 141), ('iron maiden', 140), ('tom waits', 138), ('michael jackson', 134), ('the smashing pumpkins', 134), ('r.e.m.', 133), ('ac/dc', 132)]\n"
       ]
      }
     ],
     "prompt_number": 14
    },
    {
     "cell_type": "code",
     "collapsed": false,
     "input": [
      "def get_artist_id(artist_substring):\n",
      "    artist_df = df[df.artist_name.map(lambda x: artist_substring in x.lower())]\n",
      "    if(artist_df.empty):\n",
      "        return \"No match\"\n",
      "    return artist_df.artist_id.iloc[0]"
     ],
     "language": "python",
     "metadata": {},
     "outputs": [],
     "prompt_number": 15
    },
    {
     "cell_type": "code",
     "collapsed": false,
     "input": [
      "#This shows the need for regularization. In particular, any two artists with two common listeners will have a\n",
      "#similarity of 1 or -1, using the current definition of similarity\n",
      "artist = \"aphex twin\"\n",
      "n = 1000\n",
      "top_artists = [info[0] for info in artists_listeners_counts[0:n]]\n",
      "print \"Among the top \" + str(n) + \" artists, who is most similar to \" + artist + \"?\\n\"\n",
      "artist_sims = [(top_artist, calculate_similarity(get_artist_id(artist), get_artist_id(top_artist), df, pearson_sim)) \n",
      "               for top_artist in top_artists]\n",
      "artist_sims.sort(key=itemgetter(1), reverse=True)\n",
      "for line in artist_sims:\n",
      "    if(line[1][0] > 0.6):\n",
      "        print line"
     ],
     "language": "python",
     "metadata": {},
     "outputs": [
      {
       "output_type": "stream",
       "stream": "stdout",
       "text": [
        "Among the top 1000 artists, who is most similar to aphex twin?\n",
        "\n",
        "('aphex twin', (1.0, 114))"
       ]
      },
      {
       "output_type": "stream",
       "stream": "stdout",
       "text": [
        "\n",
        "('beck', (1.0, 2))\n",
        "('rage against the machine', (1.0, 2))\n",
        "('avril lavigne', (1.0, 2))\n",
        "('the who', (1.0, 2))\n",
        "('justice', (1.0, 2))\n",
        "('misfits', (1.0, 2))\n",
        "('aerosmith', (1.0, 2))\n",
        "('the cranberries', (1.0, 2))\n",
        "('limp bizkit', (1.0, 2))\n",
        "('guns n roses', (1.0, 2))\n",
        "('eric clapton', (1.0, 2))\n",
        "(\"guns n' roses\", (1.0, 2))\n",
        "('dire straits', (1.0, 2))\n",
        "('simon & garfunkel', (1.0, 2))\n",
        "('afi', (1.0, 2))\n",
        "('die \\xc3\\x84rzte', (1.0, 2))\n",
        "('timbaland', (1.0, 2))\n",
        "('2pac', (1.0, 2))\n",
        "('stars', (1.0, 2))\n",
        "('dimmu borgir', (1.0, 2))\n",
        "('flogging molly', (1.0, 2))\n",
        "('camera obscura', (1.0, 2))\n",
        "('fleetwood mac', (1.0, 2))\n",
        "('rilo kiley', (1.0, 2))\n",
        "('clap your hands say yeah', (1.0, 2))\n",
        "('machine head', (1.0, 2))\n",
        "('new found glory', (1.0, 2))\n",
        "('metric', (1.0, 2))\n",
        "('ella fitzgerald', (1.0, 2))\n",
        "('rush', (1.0, 2))\n",
        "('the academy is...', (1.0, 2))\n",
        "('minus the bear', (1.0, 2))\n",
        "('aretha franklin', (1.0, 2))\n",
        "('at the drive-in', (1.0, 2))\n",
        "('okkervil river', (1.0, 2))\n",
        "('built to spill', (1.0, 2))\n",
        "('black rebel motorcycle club', (1.0, 2))\n",
        "('jens lekman', (1.0, 2))\n",
        "('chet baker', (1.0, 2))\n",
        "('jurassic 5', (1.0, 2))\n",
        "('gang starr', (1.0, 2))\n",
        "('duke ellington', (1.0, 2))\n",
        "('einst\\xc3\\xbcrzende neubauten', (1.0, 2))\n",
        "('neko case', (1.0, 2))\n",
        "('jefferson airplane', (1.0, 2))\n",
        "('devo', (1.0, 2))\n",
        "('the stone roses', (1.0, 2))\n",
        "('deerhunter', (1.0, 2))\n",
        "('steely dan', (1.0, 2))\n",
        "('!!!', (1.0, 2))\n",
        "('st. germain', (1.0, 2))\n",
        "('godspeed you! black emperor', (1.0, 2))\n",
        "('cunninlynguists', (1.0, 2))\n",
        "('melvins', (1.0, 2))\n",
        "('...and you will know us by the trail of dead', (1.0, 2))\n",
        "('feeder', (1.0, 2))\n",
        "('chicane', (1.0, 2))\n",
        "('sarah vaughan', (1.0, 2))\n",
        "('ane brun', (1.0, 2))\n",
        "('the clash', (0.99999999999999989, 2))\n",
        "('mariah carey', (0.99999999999999989, 2))\n",
        "('santana', (0.99999999999999989, 2))\n",
        "('scooter', (0.99999999999999989, 2))\n",
        "('guided by voices', (0.99999999999999989, 2))\n",
        "('simple plan', (0.99999999999999978, 2))\n",
        "('doves', (0.99999999999999978, 2))\n",
        "('spiritualized', (0.99999999999999978, 2))\n",
        "('the go! team', (0.99570176133093047, 3))\n",
        "('editors', (0.99484882073785474, 3))\n",
        "('mr. bungle', (0.99002389108436117, 3))\n",
        "('gotan project', (0.98548336726606423, 3))\n",
        "('klaxons', (0.97466400023534039, 3))\n",
        "('isis', (0.96814654186080662, 5))\n",
        "('talking heads', (0.96812664219885114, 3))\n",
        "('the herbaliser', (0.96355648578821051, 4))\n",
        "('blockhead', (0.96141154209858015, 3))\n",
        "('nofx', (0.9591582478392231, 3))\n",
        "('johann sebastian bach', (0.95117157811944819, 6))\n",
        "('mindless self indulgence', (0.94574258593843075, 5))\n",
        "('my chemical romance', (0.93782635145194515, 3))\n",
        "('the doors', (0.93773846334739352, 6))\n",
        "('nelly furtado', (0.93656570988129251, 3))\n",
        "('tortoise', (0.93585351617099255, 3))\n",
        "('rjd2', (0.93552343824932549, 5))\n",
        "('kate bush', (0.91750308895906096, 3))\n",
        "('bush', (0.91750308895906096, 3))\n",
        "('the brian jonestown massacre', (0.90994154768461355, 3))\n",
        "('dir en grey', (0.90789052021887806, 3))\n",
        "('dead can dance', (0.89548482396230344, 4))\n",
        "('patrick wolf', (0.8767758691520986, 3))\n",
        "('blondie', (0.87401780204641411, 3))\n",
        "('foals', (0.84790480289871195, 3))\n",
        "('de la soul', (0.84718105133857147, 3))\n",
        "('rise against', (0.84535961248443703, 4))\n",
        "('eurythmics', (0.83518421480288474, 3))\n",
        "('meshuggah', (0.82547698899215172, 5))\n",
        "('rufus wainwright', (0.82425441271467192, 3))\n",
        "('bright eyes', (0.82147901563493553, 3))\n",
        "('alice in chains', (0.81448601296809109, 3))\n",
        "('faithless', (0.80163338358325176, 6))\n",
        "('coheed and cambria', (0.78471473095430999, 3))\n",
        "('the flaming lips', (0.77354893026616844, 3))\n",
        "('fatboy slim', (0.76453010064100735, 5))\n",
        "('atb', (0.76453010064100735, 5))\n",
        "('silversun pickups', (0.75991905284593775, 4))\n",
        "('combichrist', (0.7464610830203019, 3))\n",
        "('wilco', (0.74304233760577743, 4))\n",
        "('broadcast', (0.71415374376220053, 6))\n",
        "('fugazi', (0.71203857620574473, 5))\n",
        "('beirut', (0.70377780132234324, 6))\n",
        "('fant\\xc3\\xb4mas', (0.69693286515656605, 7))\n",
        "('kent', (0.68894738589312499, 3))\n",
        "('ulver', (0.68239063710111547, 5))\n",
        "('[unknown]', (0.67609357964653305, 5))\n",
        "('dizzee rascal', (0.6709766186837659, 3))\n",
        "('frank sinatra', (0.66721474948528026, 7))\n",
        "('suicidal tendencies', (0.66214801771638498, 3))\n",
        "('tom waits', (0.63786239767586295, 6))\n",
        "('jack johnson', (0.62636437479261842, 5))\n",
        "('r.e.m.', (0.61975894340973148, 7))\n",
        "('crystal castles', (0.60336257098586832, 6))\n"
       ]
      }
     ],
     "prompt_number": 21
    },
    {
     "cell_type": "code",
     "collapsed": false,
     "input": [
      "#Function to visualize the plot behind the pearson coefficient\n",
      "def visualize_similarity(artist1, artist2):\n",
      "    common_listeners = set(df[df.artist_name==artist1].user_id).intersection(df[df.artist_name==artist2].user_id)\n",
      "    artist1_listens = df[(df.user_id.isin(common_listeners)) & (df.artist_name==artist1)]\n",
      "    artist2_listens = df[(df.user_id.isin(common_listeners)) & (df.artist_name==artist2)]\n",
      "    plt.scatter(artist1_listens.log_listens-artist1_listens.user_avg,\n",
      "                artist2_listens.log_listens-artist2_listens.user_avg)"
     ],
     "language": "python",
     "metadata": {},
     "outputs": [],
     "prompt_number": 17
    },
    {
     "cell_type": "code",
     "collapsed": false,
     "input": [
      "#Probably should be high similarity\n",
      "visualize_similarity('aphex twin', 'boards of canada')"
     ],
     "language": "python",
     "metadata": {},
     "outputs": [
      {
       "metadata": {},
       "output_type": "display_data",
       "png": "[encoded data removed]",
       "text": [
        "<matplotlib.figure.Figure at 0x7f61399e2b10>"
       ]
      }
     ],
     "prompt_number": 19
    },
    {
     "cell_type": "code",
     "collapsed": false,
     "input": [
      "#Example of high similarity only because of small sample size (presumably)\n",
      "visualize_similarity('aphex twin', 'de la soul')"
     ],
     "language": "python",
     "metadata": {},
     "outputs": [
      {
       "metadata": {},
       "output_type": "display_data",
       "png": "[encoded data removed]",
       "text": [
        "<matplotlib.figure.Figure at 0x7f61396c1990>"
       ]
      }
     ],
     "prompt_number": 20
    },
    {
     "cell_type": "code",
     "collapsed": false,
     "input": [
      "#Most similar pairs of artists among the top 200 artists\n",
      "#For 50k rows, <17 min (big_200)\n",
      "#For 500k rows, 128 min\n",
      "big_200_similarities = []\n",
      "k = 0\n",
      "artists = [info[0] for info in artists_listeners_counts[0:200]]\n",
      "\n",
      "start_time = time.time()\n",
      "\n",
      "for i, artist1 in enumerate(artists):\n",
      "    for j,artist2 in enumerate(artists):\n",
      "        if i < j:\n",
      "            big_200_similarities.append((artist1, artist2, \n",
      "                                         calculate_similarity(get_artist_id(artist1), get_artist_id(artist2), \n",
      "                                                              df, pearson_sim)))\n",
      "            if(k % 2000 == 0):\n",
      "                print str(k)\n",
      "            k = k + 1\n",
      "\n",
      "end_time = time.time()\n",
      "\n",
      "print \"Took \" + str(end_time - start_time) + \" seconds\""
     ],
     "language": "python",
     "metadata": {},
     "outputs": [
      {
       "output_type": "stream",
       "stream": "stdout",
       "text": [
        "0\n",
        "2000"
       ]
      },
      {
       "output_type": "stream",
       "stream": "stdout",
       "text": [
        "\n",
        "4000"
       ]
      },
      {
       "output_type": "stream",
       "stream": "stdout",
       "text": [
        "\n",
        "6000"
       ]
      },
      {
       "output_type": "stream",
       "stream": "stdout",
       "text": [
        "\n",
        "8000"
       ]
      },
      {
       "output_type": "stream",
       "stream": "stdout",
       "text": [
        "\n",
        "10000"
       ]
      },
      {
       "output_type": "stream",
       "stream": "stdout",
       "text": [
        "\n",
        "12000"
       ]
      },
      {
       "output_type": "stream",
       "stream": "stdout",
       "text": [
        "\n",
        "14000"
       ]
      },
      {
       "output_type": "stream",
       "stream": "stdout",
       "text": [
        "\n",
        "16000"
       ]
      },
      {
       "output_type": "stream",
       "stream": "stdout",
       "text": [
        "\n",
        "18000"
       ]
      },
      {
       "output_type": "stream",
       "stream": "stdout",
       "text": [
        "\n",
        "Took 2130.11822319 seconds"
       ]
      },
      {
       "output_type": "stream",
       "stream": "stdout",
       "text": [
        "\n"
       ]
      }
     ],
     "prompt_number": 23
    },
    {
     "cell_type": "code",
     "collapsed": false,
     "input": [
      "big_200_similarities.sort(key=itemgetter(2), reverse=True)\n",
      "for sim in big_200_similarities:\n",
      "    if (sim[2][1] >= 15 and (sim[2][0] > 0.6)): #Filter out low-common-listener noise\n",
      "        print sim"
     ],
     "language": "python",
     "metadata": {},
     "outputs": [
      {
       "output_type": "stream",
       "stream": "stdout",
       "text": [
        "('guns n roses', \"guns n' roses\", (1.0, 131))\n",
        "('bob marley', 'bob marley & the wailers', (1.0, 75))\n",
        "('oasis', 'franz ferdinand', (0.83167538521281903, 24))\n",
        "('oasis', 'kaiser chiefs', (0.82174442504940315, 23))\n",
        "('metallica', 'jimi hendrix', (0.82026998142746932, 16))\n",
        "('nine inch nails', 'black sabbath', (0.81110157073756661, 15))\n",
        "('johnny cash', 'bruce springsteen', (0.77463045776905015, 17))\n",
        "('coldplay', 'bob marley', (0.75678300154777078, 18))\n",
        "('coldplay', 'bob marley & the wailers', (0.75678300154777078, 18))\n",
        "('nirvana', 'the prodigy', (0.72577197689676998, 22))\n",
        "('daft punk', 'portishead', (0.7241947636982875, 17))\n",
        "('system of a down', 'the doors', (0.71913075056265618, 15))\n",
        "('linkin park', 'rage against the machine', (0.71582591164594844, 21))\n",
        "('the cure', 'pj harvey', (0.71434150708304467, 20))\n",
        "('lady gaga', 'black eyed peas', (0.70356206229153107, 15))\n",
        "('u2', 'madonna', (0.70131873815302037, 23))\n",
        "('muse', 'the strokes', (0.67380132433913342, 21))\n",
        "('u2', 'tom waits', (0.67060600330046527, 17))\n",
        "('depeche mode', 'blur', (0.66811097591921131, 17))\n",
        "('franz ferdinand', 'the kooks', (0.66784373613166281, 27))\n",
        "('foo fighters', 'queens of the stone age', (0.64720456421574968, 36))\n",
        "('portishead', 'morcheeba', (0.64136892895052255, 18))\n",
        "('avril lavigne', 'sum 41', (0.63459665259456666, 17))\n",
        "('beirut', 'iron & wine', (0.63108559747044846, 20))\n",
        "('muse', 'joy division', (0.62619642220279337, 17))\n",
        "('red hot chili peppers', 'jamiroquai', (0.62600119897707318, 27))\n",
        "('tool', 'disturbed', (0.62594487454978687, 15))\n",
        "('muse', 'the kooks', (0.62452705692294508, 26))\n",
        "('the offspring', 'bad religion', (0.62364435736366264, 21))\n",
        "('placebo', 'blur', (0.62038995502837113, 16))\n",
        "('moby', 'jack johnson', (0.61701007483820502, 16))\n",
        "('coldplay', 'the clash', (0.61373309318029179, 16))\n",
        "('linkin park', 'tool', (0.61215183354904423, 18))\n",
        "('the beatles', 'kaiser chiefs', (0.60622095065825143, 25))\n",
        "('rise against', 'rage against the machine', (0.6025654413019953, 18))\n",
        "('bj\\xc3\\xb6rk', 'goldfrapp', (0.60019252075051821, 21))\n"
       ]
      }
     ],
     "prompt_number": 27
    },
    {
     "cell_type": "code",
     "collapsed": false,
     "input": [
      "#High pearson means the relationship is close to linear with a positive slope\n",
      "#But what we want to know is, if someone listens to a lot of artist1, how likely is it that they like/would like artist2?\n",
      "#Linearity has nothing to do with it. \n",
      "#Should look into better similarity measures at some point."
     ],
     "language": "python",
     "metadata": {},
     "outputs": [],
     "prompt_number": 17
    },
    {
     "cell_type": "code",
     "collapsed": false,
     "input": [
      "#Regularizing to favor higher similarities when there is a greater amount of common listeners\n",
      "def reg_sim(sim, reg=4.):\n",
      "    regsim = (sim[0]*sim[1])/(sim[1]+reg)\n",
      "    return regsim"
     ],
     "language": "python",
     "metadata": {},
     "outputs": [],
     "prompt_number": 25
    },
    {
     "cell_type": "code",
     "collapsed": false,
     "input": [
      "big_200_reg = [(sim[0], sim[1], reg_sim(sim[2])) for sim in big_200_similarities if reg_sim(sim[2]) > 0.6]\n",
      "big_200_reg.sort(key=itemgetter(2), reverse=True)\n",
      "for sim in big_200_reg:\n",
      "    print sim"
     ],
     "language": "python",
     "metadata": {},
     "outputs": [
      {
       "output_type": "stream",
       "stream": "stdout",
       "text": [
        "('guns n roses', \"guns n' roses\", 0.97037037037037033)\n",
        "('bob marley', 'bob marley & the wailers', 0.94936708860759489)\n",
        "('oasis', 'franz ferdinand', 0.71286461589670203)\n",
        "('oasis', 'kaiser chiefs', 0.70000451022726939)\n",
        "('u2', 'rage against the machine', 0.6733023515974631)\n",
        "('metallica', 'jimi hendrix', 0.65621598514197543)\n",
        "('nine inch nails', 'black sabbath', 0.64034334531913151)\n",
        "('elliott smith', 'simon & garfunkel', 0.64026214714087004)\n",
        "('lily allen', 'dido', 0.63779278864462718)\n",
        "('the rolling stones', 'stevie wonder', 0.63697551232224003)\n",
        "('bj\\xc3\\xb6rk', 'oasis', 0.62843537561179885)\n",
        "('johnny cash', 'bruce springsteen', 0.62708179914637385)\n",
        "('elliott smith', 'mogwai', 0.6219930395171569)\n",
        "('kanye west', 'david bowie', 0.62093164096054188)\n",
        "('coldplay', 'bob marley', 0.61918609217544873)\n",
        "('coldplay', 'bob marley & the wailers', 0.61918609217544873)\n",
        "('kings of leon', 'sum 41', 0.61700823723398768)\n",
        "('oasis', 'evanescence', 0.61593037822514363)\n",
        "('portishead', 'nelly furtado', 0.6152264187127382)\n",
        "('nirvana', 'the prodigy', 0.61411474968188229)\n",
        "('nightwish', 'bon jovi', 0.61296997844510293)\n",
        "('metallica', 'miles davis', 0.61128904472872281)\n",
        "('the doors', 'the knife', 0.61107905448420685)\n",
        "('kings of leon', 'bruce springsteen', 0.60649502267962596)\n",
        "('death cab for cutie', 'james blunt', 0.60546434991865283)\n",
        "('linkin park', 'rage against the machine', 0.60129376578259663)\n"
       ]
      }
     ],
     "prompt_number": 28
    },
    {
     "cell_type": "code",
     "collapsed": false,
     "input": [
      "visualize_similarity(\"portishead\", \"nelly furtado\")"
     ],
     "language": "python",
     "metadata": {},
     "outputs": [
      {
       "metadata": {},
       "output_type": "display_data",
       "png": "[encoded data removed]",
       "text": [
        "<matplotlib.figure.Figure at 0x7f61396d5850>"
       ]
      }
     ],
     "prompt_number": 29
    },
    {
     "cell_type": "code",
     "collapsed": false,
     "input": [
      "#k most similar artists among the top 1000\n",
      "def knearest(artist_name, k=10, b=1000):\n",
      "    artists = [info[0] for info in artists_listeners_counts[0:b]]\n",
      "    artist_sims = [(artist, reg_sim(calculate_similarity(get_artist_id(artist_name),\n",
      "                                                         get_artist_id(artist),\n",
      "                                                         df, pearson_sim))) for artist in artists if artist != artist_name]\n",
      "    artist_sims.sort(key=itemgetter(1), reverse=True)\n",
      "    return artist_sims[0:k]"
     ],
     "language": "python",
     "metadata": {},
     "outputs": [],
     "prompt_number": 30
    },
    {
     "cell_type": "code",
     "collapsed": false,
     "input": [
      "s = time.time()\n",
      "print knearest(\"kanye west\")\n",
      "print str(time.time()-s) + \" seconds\""
     ],
     "language": "python",
     "metadata": {},
     "outputs": [
      {
       "output_type": "stream",
       "stream": "stdout",
       "text": [
        "[('panic at the disco', 0.62121551572186762), ('david bowie', 0.62093164096054188), ('the chemical brothers', 0.59515734762867567), ('maroon 5', 0.58050040381957402), ('queens of the stone age', 0.56877664509368386), ('fort minor', 0.55764059642359898), ('die \\xc3\\x84rzte', 0.54364006085218963), ('camera obscura', 0.49927045147443055), ('wilco', 0.48511602270104759), ('the pussycat dolls', 0.48404672846285185)]\n",
        "116.660984039 seconds\n"
       ]
      },
      {
       "output_type": "stream",
       "stream": "stdout",
       "text": [
        "[('panic at the disco', 0.62121551572186762), ('david bowie', 0.62093164096054188), ('the chemical brothers', 0.59515734762867567), ('maroon 5', 0.58050040381957402), ('queens of the stone age', 0.56877664509368386), ('fort minor', 0.55764059642359898), ('die \\xc3\\x84rzte', 0.54364006085218963), ('camera obscura', 0.49927045147443055), ('wilco', 0.48511602270104759), ('the pussycat dolls', 0.48404672846285185)]\n",
        "114.901989937 seconds\n"
       ]
      }
     ],
     "prompt_number": 32
    },
    {
     "cell_type": "code",
     "collapsed": false,
     "input": [
      "#Generate recommended artists for a user based on finding the k nearest neighbors of the user's top n artists\n",
      "def recommend(user_id, n=5, k=10, b=1000, verbose=False):\n",
      "    if(b < k):\n",
      "        k = b\n",
      "        \n",
      "    s = time.time()\n",
      "        \n",
      "    user_artists = df[df.user_id == user_id][['artist_name', \n",
      "                                          'log_listens']].sort(['log_listens'], ascending=False)\n",
      "    user_top = user_artists.head(n)\n",
      "    \n",
      "    recommendations = []\n",
      "    for artist in list(user_top.artist_name):\n",
      "        for neighbor in knearest(artist, k, b):\n",
      "            recommendations.append(neighbor)\n",
      "        if(verbose):\n",
      "            print(artist + \": \" + str(recommendations[-k:]) + \"\\n\")\n",
      "    \n",
      "    #Sort by regularized similarity\n",
      "    recommendations.sort(key=itemgetter(1), reverse=True)\n",
      "    \n",
      "    #Screen out low similarities\n",
      "    recommendations = [rec[0] for rec in recommendations if rec[1] > 0.4]\n",
      "    \n",
      "    #Remove duplicates and artists already listened to\n",
      "    rec_unique = []\n",
      "    for rec in recommendations:\n",
      "        if ((rec not in rec_unique) and (rec not in user_artists.artist_name)):\n",
      "            rec_unique.append(rec)\n",
      "            \n",
      "    print \"Recommendations:\"\n",
      "    for rec in rec_unique:\n",
      "        print rec\n",
      "        \n",
      "    print \"\\nTook \" + str(time.time() -s) + \" seconds\""
     ],
     "language": "python",
     "metadata": {},
     "outputs": [],
     "prompt_number": 33
    },
    {
     "cell_type": "code",
     "collapsed": false,
     "input": [
      "recommend('00000c289a1829a808ac09c00daf10bc3c4e223b', b=500, verbose=True)"
     ],
     "language": "python",
     "metadata": {},
     "outputs": [
      {
       "output_type": "stream",
       "stream": "stdout",
       "text": [
        "betty blowtorch: [('radiohead', 0.0), ('the beatles', 0.0), ('coldplay', 0.0), ('red hot chili peppers', 0.0), ('muse', 0.0), ('metallica', 0.0), ('nirvana', 0.0), ('linkin park', 0.0), ('system of a down', 0.0), ('the killers', 0.0)]\n",
        "\n",
        "die \u00c4rzte: [('kanye west', 0.54364006085218963), ('dido', 0.49026570873365882), ('death cab for cutie', 0.47398263611644126), ('rammstein', 0.45741560734233033), ('sonata arctica', 0.45103803764175204), ('interpol', 0.42647446772201286), ('the hives', 0.42222044981789042), ('babyshambles', 0.4206392423825816), ('howard shore', 0.40455682525355197), ('blur', 0.39228026845917408)]\n"
       ]
      },
      {
       "output_type": "stream",
       "stream": "stdout",
       "text": [
        "\n",
        "melissa etheridge: [('red hot chili peppers', 0.33333333333333331), ('tori amos', 0.33333333333333331), ('kate bush', 0.33333333333333331), ('radiohead', 0.0), ('the beatles', 0.0), ('coldplay', 0.0), ('muse', 0.0), ('metallica', 0.0), ('nirvana', 0.0), ('linkin park', 0.0)]\n"
       ]
      },
      {
       "output_type": "stream",
       "stream": "stdout",
       "text": [
        "\n",
        "elvenking: [('red hot chili peppers', 0.33333333333333331), ('nightwish', 0.33333333333333331), ('apocalyptica', 0.33333333333333331), ('amon amarth', 0.33333333333333331), ('anathema', 0.33333333333333331), ('judas priest', 0.33333333333333331), ('korpiklaani', 0.33333333333333331), ('helloween', 0.3333333333333333), ('howard shore', 0.33333333333333331), ('manowar', 0.33333333333333331)]\n"
       ]
      },
      {
       "output_type": "stream",
       "stream": "stdout",
       "text": [
        "\n",
        "juliette & the licks: [('the libertines', 0.41407770964269741), ('eels', 0.36438900924397954), ('the raconteurs', 0.35459293645492934), ('sigur r\\xc3\\xb3s', 0.33333333333333331), ('green day', 0.33333333333333331), ('portishead', 0.33333333333333331), ('mgmt', 0.33333333333333331), ('the velvet underground', 0.3333333333333333), ('apocalyptica', 0.33333333333333331), ('sum 41', 0.33333333333333331)]\n"
       ]
      },
      {
       "output_type": "stream",
       "stream": "stdout",
       "text": [
        "\n",
        "Recommendations:\n",
        "kanye west\n",
        "dido\n",
        "death cab for cutie\n",
        "rammstein\n",
        "sonata arctica\n",
        "interpol\n",
        "the hives\n",
        "babyshambles\n",
        "the libertines\n",
        "howard shore\n",
        "\n",
        "Took 284.787377119 seconds\n"
       ]
      }
     ],
     "prompt_number": 34
    },
    {
     "cell_type": "code",
     "collapsed": false,
     "input": [
      "#Might be a good idea to factor in how much user listens to artist X when determining whether to recommend\n",
      "#an artist that is a close neighbor of artist X. (This is already done in a coarse way by only looking at neighbors\n",
      "#of the user's top n art)\n",
      "recommend('00000c289a1829a808ac09c00daf10bc3c4e223b', n=10, b=1000, verbose=True)"
     ],
     "language": "python",
     "metadata": {},
     "outputs": [
      {
       "output_type": "stream",
       "stream": "stdout",
       "text": [
        "betty blowtorch: [('low', 0.33333333333333331), ('radiohead', 0.0), ('the beatles', 0.0), ('coldplay', 0.0), ('red hot chili peppers', 0.0), ('muse', 0.0), ('metallica', 0.0), ('nirvana', 0.0), ('linkin park', 0.0), ('system of a down', 0.0)]\n",
        "\n",
        "die \u00c4rzte: [('farin urlaub', 0.65672943384187632), ('kanye west', 0.54364006085218963), ('dido', 0.49026570873365882), ('death cab for cutie', 0.47398263611644126), ('paul van dyk', 0.473494793728159), ('rammstein', 0.45741560734233033), ('sonata arctica', 0.45103803764175204), ('interpol', 0.42647446772201286), ('the hives', 0.42222044981789042), ('babyshambles', 0.4206392423825816)]\n"
       ]
      },
      {
       "output_type": "stream",
       "stream": "stdout",
       "text": [
        "\n",
        "melissa etheridge: [('red hot chili peppers', 0.33333333333333331), ('tori amos', 0.33333333333333331), ('kate bush', 0.33333333333333331), ('frou frou', 0.33333333333333331), ('bush', 0.33333333333333331), ('radiohead', 0.0), ('the beatles', 0.0), ('coldplay', 0.0), ('muse', 0.0), ('metallica', 0.0)]\n"
       ]
      },
      {
       "output_type": "stream",
       "stream": "stdout",
       "text": [
        "\n",
        "elvenking: [('rhapsody of fire', 0.42852355113804697), ('red hot chili peppers', 0.33333333333333331), ('nightwish', 0.33333333333333331), ('apocalyptica', 0.33333333333333331), ('amon amarth', 0.33333333333333331), ('anathema', 0.33333333333333331), ('judas priest', 0.33333333333333331), ('korpiklaani', 0.33333333333333331), ('helloween', 0.3333333333333333), ('howard shore', 0.33333333333333331)]\n"
       ]
      },
      {
       "output_type": "stream",
       "stream": "stdout",
       "text": [
        "\n",
        "juliette & the licks: [('the libertines', 0.41407770964269741), ('eels', 0.36438900924397954), ('the raconteurs', 0.35459293645492934), ('sigur r\\xc3\\xb3s', 0.33333333333333331), ('green day', 0.33333333333333331), ('portishead', 0.33333333333333331), ('mgmt', 0.33333333333333331), ('the velvet underground', 0.3333333333333333), ('apocalyptica', 0.33333333333333331), ('sum 41', 0.33333333333333331)]\n"
       ]
      },
      {
       "output_type": "stream",
       "stream": "stdout",
       "text": [
        "\n",
        "red hot chili peppers: [('m.i.a.', 0.56548950436101753), ('simon & garfunkel', 0.5486956171899996), ('jamiroquai', 0.54522685072196697), ('manic street preachers', 0.53469032363666125), ('matchbox twenty', 0.5329838711403988), ('katy perry', 0.50888176779846783), ('coheed and cambria', 0.50224610349707133), ('inxs', 0.50165863974716163), ('robbie williams', 0.4970834596967077), ('clap your hands say yeah', 0.49580930726914851)]\n"
       ]
      },
      {
       "output_type": "stream",
       "stream": "stdout",
       "text": [
        "\n",
        "magica: [('radiohead', 0.0), ('the beatles', 0.0), ('coldplay', 0.0), ('red hot chili peppers', 0.0), ('muse', 0.0), ('metallica', 0.0), ('nirvana', 0.0), ('linkin park', 0.0), ('system of a down', 0.0), ('the killers', 0.0)]\n"
       ]
      },
      {
       "output_type": "stream",
       "stream": "stdout",
       "text": [
        "\n",
        "the black dahlia murder: [('killswitch engage', 0.4131468583787396), ('from autumn to ashes', 0.41156583086013609), ('lamb of god', 0.41010887070571661), ('bloodbath', 0.40794847679380325), ('red hot chili peppers', 0.40669424356041955), ('parkway drive', 0.3941682276019029), ('led zeppelin', 0.33333333333333331), ('ac/dc', 0.33333333333333331), ('slipknot', 0.33333333333333331), ('joy division', 0.33333333333333331)]\n"
       ]
      },
      {
       "output_type": "stream",
       "stream": "stdout",
       "text": [
        "\n",
        "the murmurs: [('tegan and sara', 0.33333333333333331), ('radiohead', 0.0), ('the beatles', 0.0), ('coldplay', 0.0), ('red hot chili peppers', 0.0), ('muse', 0.0), ('metallica', 0.0), ('nirvana', 0.0), ('linkin park', 0.0), ('system of a down', 0.0)]\n"
       ]
      },
      {
       "output_type": "stream",
       "stream": "stdout",
       "text": [
        "\n",
        "lunachicks: [('red hot chili peppers', 0.33333333333333331), ('radiohead', 0.0), ('the beatles', 0.0), ('coldplay', 0.0), ('muse', 0.0), ('metallica', 0.0), ('nirvana', 0.0), ('linkin park', 0.0), ('system of a down', 0.0), ('the killers', 0.0)]\n"
       ]
      },
      {
       "output_type": "stream",
       "stream": "stdout",
       "text": [
        "\n",
        "Recommendations:\n",
        "farin urlaub\n",
        "m.i.a.\n",
        "simon & garfunkel\n",
        "jamiroquai\n",
        "kanye west\n",
        "manic street preachers\n",
        "matchbox twenty\n",
        "katy perry\n",
        "coheed and cambria\n",
        "inxs\n",
        "robbie williams\n",
        "clap your hands say yeah\n",
        "dido\n",
        "death cab for cutie\n",
        "paul van dyk\n",
        "rammstein\n",
        "sonata arctica\n",
        "rhapsody of fire\n",
        "interpol\n",
        "the hives\n",
        "babyshambles\n",
        "the libertines\n",
        "killswitch engage\n",
        "from autumn to ashes\n",
        "lamb of god\n",
        "bloodbath\n",
        "red hot chili peppers\n",
        "\n",
        "Took 1134.31424809 seconds\n"
       ]
      }
     ],
     "prompt_number": 35
    },
    {
     "cell_type": "code",
     "collapsed": false,
     "input": [
      "recommend(list(df.user_id)[10000], n=10, b=1000, verbose=True)"
     ],
     "language": "python",
     "metadata": {},
     "outputs": [
      {
       "output_type": "stream",
       "stream": "stdout",
       "text": [
        "genghis tron: [('ulver', 0.41184544950289936), ('the cure', 0.33333333333333331), ('bj\\xc3\\xb6rk', 0.33333333333333331), ('portishead', 0.33333333333333331), ('mogwai', 0.3333333333333333), ('deftones', 0.33333333333333331), ('converge', 0.33333333333333331), ('deerhoof', 0.33333333333333331), ('the fall', 0.33333333333333331), ('the blood brothers', 0.33333333333333331)]\n",
        "\n",
        "screeching weasel: [('the clash', 0.42736826102658604), ('less than jake', 0.42681846155717906), ('built to spill', 0.42538974577910554), ('minutemen', 0.41084278225841564), ('nofx', 0.40982501417604089), ('propagandhi', 0.40679671628145059), ('misfits', 0.34908638510334455), ('descendents', 0.33447921538527892), ('the beatles', 0.33333333333333331), ('bob dylan', 0.33333333333333331)]\n"
       ]
      },
      {
       "output_type": "stream",
       "stream": "stdout",
       "text": [
        "\n",
        "u.s. christmas: [('radiohead', 0.0), ('the beatles', 0.0), ('coldplay', 0.0), ('red hot chili peppers', 0.0), ('muse', 0.0), ('metallica', 0.0), ('nirvana', 0.0), ('linkin park', 0.0), ('system of a down', 0.0), ('the killers', 0.0)]\n"
       ]
      },
      {
       "output_type": "stream",
       "stream": "stdout",
       "text": [
        "\n",
        "cannibal corpse: [('ac/dc', 0.5055417293286697), ('bathory', 0.50456947080596171), ('katatonia', 0.43010477247476592), ('the haunted', 0.42769654369226701), ('deftones', 0.42347741314734849), ('marilyn manson', 0.40965252623659409), ('nasum', 0.40734325225191054), ('chimaira', 0.40657389216203993), ('sodom', 0.40517306417860366), ('norther', 0.38188228643213701)]\n"
       ]
      },
      {
       "output_type": "stream",
       "stream": "stdout",
       "text": [
        "\n",
        "unsane: [('radiohead', 0.0), ('the beatles', 0.0), ('coldplay', 0.0), ('red hot chili peppers', 0.0), ('muse', 0.0), ('metallica', 0.0), ('nirvana', 0.0), ('linkin park', 0.0), ('system of a down', 0.0), ('the killers', 0.0)]\n"
       ]
      },
      {
       "output_type": "stream",
       "stream": "stdout",
       "text": [
        "\n",
        "mgr: [('radiohead', 0.0), ('the beatles', 0.0), ('coldplay', 0.0), ('red hot chili peppers', 0.0), ('muse', 0.0), ('metallica', 0.0), ('nirvana', 0.0), ('linkin park', 0.0), ('system of a down', 0.0), ('the killers', 0.0)]\n"
       ]
      },
      {
       "output_type": "stream",
       "stream": "stdout",
       "text": [
        "\n",
        "mogwai: [('elliott smith', 0.6219930395171569), ('daft punk', 0.56999206552528248), ('neutral milk hotel', 0.55403526295705585), ('a silver mt. zion', 0.54386821433511801), ('bright eyes', 0.53361185511322773), ('agalloch', 0.52245163055569466), ('amon tobin', 0.51465345869502421), ('digitalism', 0.48858800183468643), ('kings of leon', 0.4884553877936022), ('yann tiersen', 0.48673600537550005)]\n"
       ]
      },
      {
       "output_type": "stream",
       "stream": "stdout",
       "text": [
        "\n",
        "russian circles: [('clint mansell', 0.42690773763479767), ('mogwai', 0.37950883668886576), ('red hot chili peppers', 0.33333333333333331), ('death cab for cutie', 0.3333333333333333), ('queen', 0.33333333333333331), ('tom waits', 0.33333333333333331), ('ko\\xd0\\xafn', 0.33333333333333331), ('pixies', 0.33333333333333331), ('rage against the machine', 0.33333333333333331), ('sonic youth', 0.33333333333333331)]\n"
       ]
      },
      {
       "output_type": "stream",
       "stream": "stdout",
       "text": [
        "\n",
        "peter broderick: [('mogwai', 0.34561208651432307), ('sigur r\\xc3\\xb3s', 0.33333333333333331), ('band of horses', 0.33333333333333331), ('prince', 0.33333333333333331), (\"bonnie 'prince' billy\", 0.33333333333333331), ('six organs of admittance', 0.33333333333333331), ('the beatles', 0.0), ('coldplay', 0.0), ('red hot chili peppers', 0.0), ('metallica', 0.0)]\n"
       ]
      },
      {
       "output_type": "stream",
       "stream": "stdout",
       "text": [
        "\n",
        "harvestman: [('radiohead', 0.0), ('the beatles', 0.0), ('coldplay', 0.0), ('red hot chili peppers', 0.0), ('muse', 0.0), ('metallica', 0.0), ('nirvana', 0.0), ('linkin park', 0.0), ('system of a down', 0.0), ('the killers', 0.0)]\n"
       ]
      },
      {
       "output_type": "stream",
       "stream": "stdout",
       "text": [
        "\n",
        "Recommendations:\n",
        "elliott smith\n",
        "daft punk\n",
        "neutral milk hotel\n",
        "a silver mt. zion\n",
        "bright eyes\n",
        "agalloch\n",
        "amon tobin\n",
        "ac/dc\n",
        "bathory\n",
        "digitalism\n",
        "kings of leon\n",
        "yann tiersen\n",
        "katatonia\n",
        "the haunted\n",
        "the clash\n",
        "clint mansell\n",
        "less than jake\n",
        "built to spill\n",
        "deftones\n",
        "ulver\n",
        "minutemen\n",
        "nofx\n",
        "marilyn manson\n",
        "nasum\n",
        "propagandhi\n",
        "chimaira\n",
        "sodom\n",
        "\n",
        "Took 1116.28526211 seconds\n"
       ]
      }
     ],
     "prompt_number": 36
    },
    {
     "cell_type": "code",
     "collapsed": false,
     "input": [],
     "language": "python",
     "metadata": {},
     "outputs": [],
     "prompt_number": 37
    }
   ],
   "metadata": {}
  }
 ]
}