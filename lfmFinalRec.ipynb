{
 "metadata": {
  "name": ""
 },
 "nbformat": 3,
 "nbformat_minor": 0,
 "worksheets": [
  {
   "cells": [
    {
     "cell_type": "code",
     "collapsed": false,
     "input": [
      "%matplotlib inline\n",
      "import numpy as np\n",
      "import matplotlib.pyplot as plt\n",
      "import pandas as pd\n",
      "import seaborn as sns\n",
      "import json\n",
      "from operator import itemgetter"
     ],
     "language": "python",
     "metadata": {},
     "outputs": [],
     "prompt_number": 1
    },
    {
     "cell_type": "code",
     "collapsed": false,
     "input": [
      "#Warning: eats a lot of RAM\n",
      "trimmed_similarities = [[json.loads(pair) for pair in line.strip().split(\"\\t\")] for line in open(\"./outputs/EMR_full_t.out\")]\n",
      "trimmed_similarities[0]"
     ],
     "language": "python",
     "metadata": {},
     "outputs": [
      {
       "metadata": {},
       "output_type": "pyout",
       "prompt_number": 2,
       "text": [
        "[[u'0001cd84-2a11-4699-8d6b-0abf969c5f06',\n",
        "  u'2c1828a2-e46b-4ade-a6e9-065ca265d679'],\n",
        " [0.6250224696961574, 4]]"
       ]
      }
     ],
     "prompt_number": 2
    },
    {
     "cell_type": "code",
     "collapsed": false,
     "input": [
      "df = pd.read_csv(\"./lastfm-dataset-360K/usersha1-artmbid-artname-plays.tsv\", nrows=None, sep='\\t')\n",
      "df.columns"
     ],
     "language": "python",
     "metadata": {},
     "outputs": [
      {
       "metadata": {},
       "output_type": "pyout",
       "prompt_number": 3,
       "text": [
        "Index([u'user_id', u'artist_id', u'artist_name', u'num_plays'], dtype='object')"
       ]
      }
     ],
     "prompt_number": 3
    },
    {
     "cell_type": "code",
     "collapsed": false,
     "input": [
      "def get_a_id(a_name):\n",
      "    relevant_series = df[df.artist_name.map(lambda x: str(x).lower() == a_name.lower())].artist_id\n",
      "    if(len(relevant_series) == 0):\n",
      "        raise ValueError('No artist in dataset with name ' + a_name)\n",
      "    if(not isinstance(list(relevant_series)[0], str)):\n",
      "        raise Error(a_name + 'does not have an MBID')\n",
      "    return list(relevant_series)[0]\n",
      "    \n",
      "def get_a_name(a_id):\n",
      "    return list(df[df.artist_id == a_id].artist_name)[0]"
     ],
     "language": "python",
     "metadata": {},
     "outputs": [],
     "prompt_number": 4
    },
    {
     "cell_type": "code",
     "collapsed": false,
     "input": [
      "print get_a_id(\"kAnYe wEsT\")\n",
      "print get_a_name(get_a_id(\"RADIOHEAD\"))"
     ],
     "language": "python",
     "metadata": {},
     "outputs": [
      {
       "output_type": "stream",
       "stream": "stdout",
       "text": [
        "164f0d73-1234-4e2c-8743-d77bf2191051\n",
        "radiohead"
       ]
      },
      {
       "output_type": "stream",
       "stream": "stdout",
       "text": [
        "\n"
       ]
      }
     ],
     "prompt_number": 5
    },
    {
     "cell_type": "code",
     "collapsed": false,
     "input": [
      "print get_a_id(\"ggasrg\")"
     ],
     "language": "python",
     "metadata": {},
     "outputs": [
      {
       "ename": "ValueError",
       "evalue": "No artist in dataset with name ggasrg",
       "output_type": "pyerr",
       "traceback": [
        "\u001b[0;31m---------------------------------------------------------------------------\u001b[0m\n\u001b[0;31mValueError\u001b[0m                                Traceback (most recent call last)",
        "\u001b[0;32m<ipython-input-7-bcb3abf38b6a>\u001b[0m in \u001b[0;36m<module>\u001b[0;34m()\u001b[0m\n\u001b[0;32m----> 1\u001b[0;31m \u001b[0;32mprint\u001b[0m \u001b[0mget_a_id\u001b[0m\u001b[0;34m(\u001b[0m\u001b[0;34m\"ggasrg\"\u001b[0m\u001b[0;34m)\u001b[0m\u001b[0;34m\u001b[0m\u001b[0m\n\u001b[0m",
        "\u001b[0;32m<ipython-input-4-f2d08fc0a6bc>\u001b[0m in \u001b[0;36mget_a_id\u001b[0;34m(a_name)\u001b[0m\n\u001b[1;32m      2\u001b[0m     \u001b[0mrelevant_series\u001b[0m \u001b[0;34m=\u001b[0m \u001b[0mdf\u001b[0m\u001b[0;34m[\u001b[0m\u001b[0mdf\u001b[0m\u001b[0;34m.\u001b[0m\u001b[0martist_name\u001b[0m\u001b[0;34m.\u001b[0m\u001b[0mmap\u001b[0m\u001b[0;34m(\u001b[0m\u001b[0;32mlambda\u001b[0m \u001b[0mx\u001b[0m\u001b[0;34m:\u001b[0m \u001b[0mstr\u001b[0m\u001b[0;34m(\u001b[0m\u001b[0mx\u001b[0m\u001b[0;34m)\u001b[0m\u001b[0;34m.\u001b[0m\u001b[0mlower\u001b[0m\u001b[0;34m(\u001b[0m\u001b[0;34m)\u001b[0m \u001b[0;34m==\u001b[0m \u001b[0ma_name\u001b[0m\u001b[0;34m.\u001b[0m\u001b[0mlower\u001b[0m\u001b[0;34m(\u001b[0m\u001b[0;34m)\u001b[0m\u001b[0;34m)\u001b[0m\u001b[0;34m]\u001b[0m\u001b[0;34m.\u001b[0m\u001b[0martist_id\u001b[0m\u001b[0;34m\u001b[0m\u001b[0m\n\u001b[1;32m      3\u001b[0m     \u001b[0;32mif\u001b[0m\u001b[0;34m(\u001b[0m\u001b[0mlen\u001b[0m\u001b[0;34m(\u001b[0m\u001b[0mrelevant_series\u001b[0m\u001b[0;34m)\u001b[0m \u001b[0;34m==\u001b[0m \u001b[0;36m0\u001b[0m\u001b[0;34m)\u001b[0m\u001b[0;34m:\u001b[0m\u001b[0;34m\u001b[0m\u001b[0m\n\u001b[0;32m----> 4\u001b[0;31m         \u001b[0;32mraise\u001b[0m \u001b[0mValueError\u001b[0m\u001b[0;34m(\u001b[0m\u001b[0;34m'No artist in dataset with name '\u001b[0m \u001b[0;34m+\u001b[0m \u001b[0ma_name\u001b[0m\u001b[0;34m)\u001b[0m\u001b[0;34m\u001b[0m\u001b[0m\n\u001b[0m\u001b[1;32m      5\u001b[0m     \u001b[0;32mif\u001b[0m\u001b[0;34m(\u001b[0m\u001b[0;32mnot\u001b[0m \u001b[0misinstance\u001b[0m\u001b[0;34m(\u001b[0m\u001b[0mlist\u001b[0m\u001b[0;34m(\u001b[0m\u001b[0mrelevant_series\u001b[0m\u001b[0;34m)\u001b[0m\u001b[0;34m[\u001b[0m\u001b[0;36m0\u001b[0m\u001b[0;34m]\u001b[0m\u001b[0;34m,\u001b[0m \u001b[0mstr\u001b[0m\u001b[0;34m)\u001b[0m\u001b[0;34m)\u001b[0m\u001b[0;34m:\u001b[0m\u001b[0;34m\u001b[0m\u001b[0m\n\u001b[1;32m      6\u001b[0m         \u001b[0;32mraise\u001b[0m \u001b[0mError\u001b[0m\u001b[0;34m(\u001b[0m\u001b[0ma_name\u001b[0m \u001b[0;34m+\u001b[0m \u001b[0;34m'does not have an MBID'\u001b[0m\u001b[0;34m)\u001b[0m\u001b[0;34m\u001b[0m\u001b[0m\n",
        "\u001b[0;31mValueError\u001b[0m: No artist in dataset with name ggasrg"
       ]
      }
     ],
     "prompt_number": 7
    },
    {
     "cell_type": "code",
     "collapsed": false,
     "input": [
      "def knearest(a_id, k, r=10):\n",
      "\n",
      "    artist_similarities = []\n",
      "    for similarity in trimmed_similarities:\n",
      "        if a_id == similarity[0][0]:\n",
      "            artist_similarities.append((similarity[0][1], similarity[1][0]*similarity[1][1]/(r+similarity[1][1])))\n",
      "        if a_id == similarity[0][1]:\n",
      "            artist_similarities.append((similarity[0][0], similarity[1][0]*similarity[1][1]/(r+similarity[1][1])))\n",
      "            \n",
      "    artist_similarities.sort(key=itemgetter(1), reverse=True)\n",
      "    return artist_similarities[:k]\n",
      "    "
     ],
     "language": "python",
     "metadata": {},
     "outputs": [],
     "prompt_number": 8
    },
    {
     "cell_type": "code",
     "collapsed": false,
     "input": [
      "def recommend(user_id, n=5, k=10, r=10, limit=0.4):\n",
      "\n",
      "    user_artists = df[df.user_id == user_id][['artist_id', 'num_plays']]\n",
      "    user_artists = user_artists[user_artists.artist_id.map(lambda x: isinstance(x, str))]\n",
      "    user_artists = user_artists.sort(['num_plays'], ascending=False)\n",
      "    \n",
      "    user_top = user_artists.head(n)\n",
      "    \n",
      "    recommendations = []\n",
      "    for artist in list(user_top.artist_id):\n",
      "        print(artist)\n",
      "        for neighbor in knearest(artist, k, r):\n",
      "            print(neighbor)\n",
      "            recommendations.append(neighbor)\n",
      "        print('\\n')\n",
      "            \n",
      "    #Sort by regularized similarity\n",
      "    recommendations.sort(key=itemgetter(1), reverse=True)\n",
      "    \n",
      "    #Screen out low similarities\n",
      "    recommendations = [rec[0] for rec in recommendations if rec[1] > limit]\n",
      "    \n",
      "    #Remove duplicates and artists already listened to, while preserving order\n",
      "    rec_unique = []\n",
      "    for rec in recommendations:\n",
      "        if ((rec not in rec_unique) and (rec not in user_artists.artist_id)):\n",
      "            rec_unique.append(rec)\n",
      "            \n",
      "    print \"Recommendations:\"\n",
      "    for rec in rec_unique[:20]:\n",
      "        print rec + \" - \" + get_a_name(rec)"
     ],
     "language": "python",
     "metadata": {},
     "outputs": [],
     "prompt_number": 13
    },
    {
     "cell_type": "code",
     "collapsed": false,
     "input": [
      "df.head()"
     ],
     "language": "python",
     "metadata": {},
     "outputs": [
      {
       "html": [
        "<div style=\"max-height:1000px;max-width:1500px;overflow:auto;\">\n",
        "<table border=\"1\" class=\"dataframe\">\n",
        "  <thead>\n",
        "    <tr style=\"text-align: right;\">\n",
        "      <th></th>\n",
        "      <th>user_id</th>\n",
        "      <th>artist_id</th>\n",
        "      <th>artist_name</th>\n",
        "      <th>num_plays</th>\n",
        "    </tr>\n",
        "  </thead>\n",
        "  <tbody>\n",
        "    <tr>\n",
        "      <th>0</th>\n",
        "      <td> 00000c289a1829a808ac09c00daf10bc3c4e223b</td>\n",
        "      <td> 3bd73256-3905-4f3a-97e2-8b341527f805</td>\n",
        "      <td>      betty blowtorch</td>\n",
        "      <td> 2137</td>\n",
        "    </tr>\n",
        "    <tr>\n",
        "      <th>1</th>\n",
        "      <td> 00000c289a1829a808ac09c00daf10bc3c4e223b</td>\n",
        "      <td> f2fb0ff0-5679-42ec-a55c-15109ce6e320</td>\n",
        "      <td>            die \u00c4rzte</td>\n",
        "      <td> 1099</td>\n",
        "    </tr>\n",
        "    <tr>\n",
        "      <th>2</th>\n",
        "      <td> 00000c289a1829a808ac09c00daf10bc3c4e223b</td>\n",
        "      <td> b3ae82c2-e60b-4551-a76d-6620f1b456aa</td>\n",
        "      <td>    melissa etheridge</td>\n",
        "      <td>  897</td>\n",
        "    </tr>\n",
        "    <tr>\n",
        "      <th>3</th>\n",
        "      <td> 00000c289a1829a808ac09c00daf10bc3c4e223b</td>\n",
        "      <td> 3d6bbeb7-f90e-4d10-b440-e153c0d10b53</td>\n",
        "      <td>            elvenking</td>\n",
        "      <td>  717</td>\n",
        "    </tr>\n",
        "    <tr>\n",
        "      <th>4</th>\n",
        "      <td> 00000c289a1829a808ac09c00daf10bc3c4e223b</td>\n",
        "      <td> bbd2ffd7-17f4-4506-8572-c1ea58c3f9a8</td>\n",
        "      <td> juliette &amp; the licks</td>\n",
        "      <td>  706</td>\n",
        "    </tr>\n",
        "  </tbody>\n",
        "</table>\n",
        "<p>5 rows \u00d7 4 columns</p>\n",
        "</div>"
       ],
       "metadata": {},
       "output_type": "pyout",
       "prompt_number": 10,
       "text": [
        "                                    user_id  \\\n",
        "0  00000c289a1829a808ac09c00daf10bc3c4e223b   \n",
        "1  00000c289a1829a808ac09c00daf10bc3c4e223b   \n",
        "2  00000c289a1829a808ac09c00daf10bc3c4e223b   \n",
        "3  00000c289a1829a808ac09c00daf10bc3c4e223b   \n",
        "4  00000c289a1829a808ac09c00daf10bc3c4e223b   \n",
        "\n",
        "                              artist_id           artist_name  num_plays  \n",
        "0  3bd73256-3905-4f3a-97e2-8b341527f805       betty blowtorch       2137  \n",
        "1  f2fb0ff0-5679-42ec-a55c-15109ce6e320             die \u00c4rzte       1099  \n",
        "2  b3ae82c2-e60b-4551-a76d-6620f1b456aa     melissa etheridge        897  \n",
        "3  3d6bbeb7-f90e-4d10-b440-e153c0d10b53             elvenking        717  \n",
        "4  bbd2ffd7-17f4-4506-8572-c1ea58c3f9a8  juliette & the licks        706  \n",
        "\n",
        "[5 rows x 4 columns]"
       ]
      }
     ],
     "prompt_number": 10
    },
    {
     "cell_type": "code",
     "collapsed": false,
     "input": [
      "recommend('00000c289a1829a808ac09c00daf10bc3c4e223b', k=10, r=8)"
     ],
     "language": "python",
     "metadata": {},
     "outputs": [
      {
       "output_type": "stream",
       "stream": "stdout",
       "text": [
        "3bd73256-3905-4f3a-97e2-8b341527f805\n",
        "(u'1397d045-1603-41fc-80b9-712c18360145', 0.4517151540223497)"
       ]
      },
      {
       "output_type": "stream",
       "stream": "stdout",
       "text": [
        "\n",
        "(u'bb1ac5cd-623a-4678-89a4-20b24e6eec39', 0.43668061227381844)\n",
        "(u'cbf71c15-17c2-484f-8406-cfce12fd3e46', 0.4131112181275651)\n",
        "(u'd6dfbc0b-d737-49df-be8e-517b85985bcb', 0.3760335553080565)\n",
        "(u'ff9ef2ef-73a6-496c-8528-4b12b21afbfd', 0.3727517477114476)\n",
        "(u'0383dadf-2a4e-4d10-a46a-e9e041da8eb3', 0.35522797366082814)\n",
        "(u'125ec42a-7229-4250-afc5-e057484327fe', 0.34699013972141385)\n",
        "(u'57111f1f-9829-45ea-bb4e-a5aba37cd1d1', 0.3458826639659319)\n",
        "(u'4bb4e4e4-5f66-4509-98af-62dbb90c45c5', 0.3270300542272486)\n",
        "(u'f2fb0ff0-5679-42ec-a55c-15109ce6e320', 0.32289930913360926)\n",
        "\n",
        "\n",
        "f2fb0ff0-5679-42ec-a55c-15109ce6e320\n",
        "(u'd381d6bd-e46f-466a-af5f-8faaa6b76b3a', 0.5682488637603216)"
       ]
      },
      {
       "output_type": "stream",
       "stream": "stdout",
       "text": [
        "\n",
        "(u'fbc50db7-e666-451d-8089-653afe3fd811', 0.5049652067042052)\n",
        "(u'49b86e3d-55f5-4970-ac41-4867f36cb6b4', 0.49637353373930276)\n",
        "(u'f76167bb-c117-4022-8b6b-54c796edf5c9', 0.4946418795846164)\n",
        "(u'509f20b2-5df3-4aec-9bbc-002131fb3f99', 0.48867626922048923)\n",
        "(u'b0e81c40-ea89-40b9-95b3-e63d5cad5e67', 0.48156598999741385)\n",
        "(u'2ae53afe-ff3e-49e7-b45c-9ec8ff1519d4', 0.48148577809623827)\n",
        "(u'5631d5cd-ab06-4baa-b92d-ef76669ddb05', 0.48129597697685567)\n",
        "(u'd6d9ec73-d0dd-4066-944c-20d4a6d6c7c7', 0.4738209926532445)\n",
        "(u'23620454-4dca-45b7-8496-066e94d99826', 0.4682792338402286)\n",
        "\n",
        "\n",
        "b3ae82c2-e60b-4551-a76d-6620f1b456aa\n",
        "(u'd2ff6b6b-fc30-48dc-8952-06f9d8fc64f8', 0.577905538449718)"
       ]
      },
      {
       "output_type": "stream",
       "stream": "stdout",
       "text": [
        "\n",
        "(u'c5eb9407-caeb-4303-b383-6929aa94021c', 0.5543972341317143)\n",
        "(u'd4d17620-fd97-4574-92a8-a2cb7e72ce42', 0.5540553140814779)\n",
        "(u'a9100753-f539-43cf-bcc9-579566fb512e', 0.5316675813681865)\n",
        "(u'8c5755b4-2de6-4158-bca9-e354cbf07437', 0.524659252040692)\n",
        "(u'854a1807-025b-42a8-ba8c-2a39717f1d25', 0.5186553186515349)\n",
        "(u'afb8f901-d846-4c70-a898-59bc183d1da7', 0.48604979813776983)\n",
        "(u'3f5be744-e867-42fb-8913-5fd69e4099b5', 0.4747227349714337)\n",
        "(u'3fe817fc-966e-4ece-b00a-76be43e7e73c', 0.4744678671911806)\n",
        "(u'fd1baeb3-0ee9-4838-b4c7-615c78d68d10', 0.4698209943270748)\n",
        "\n",
        "\n",
        "3d6bbeb7-f90e-4d10-b440-e153c0d10b53\n",
        "(u'936addc3-91aa-49de-8ec0-0dc186de151f', 0.5538655952401202)"
       ]
      },
      {
       "output_type": "stream",
       "stream": "stdout",
       "text": [
        "\n",
        "(u'90c94aea-11f9-47ed-a2af-b960a7e132bd', 0.526565394746514)\n",
        "(u'18a0d72d-0be0-4196-a340-035163bfae1c', 0.4973159354759616)\n",
        "(u'9a85a9ef-6397-4a59-a204-0468e44f3326', 0.4914165642305012)\n",
        "(u'59b858bb-e13a-4608-b30d-8a4b7f282e26', 0.4790999642468677)\n",
        "(u'dcbb8de7-6574-4c14-a7c0-d2f6a1670fc9', 0.47364833301889786)\n",
        "(u'4fa321a1-b3cf-468a-b302-f360ecc31924', 0.4659655249655514)\n",
        "(u'c72198b0-42dd-419c-b0ca-924453e24940', 0.4651975128255279)\n",
        "(u'99414fbf-45ae-47cb-a32e-36337228c6aa', 0.4650961984440148)\n",
        "(u'8f60a47c-015b-4b70-957c-0871347d1b1d', 0.4571839680511229)\n",
        "\n",
        "\n",
        "bbd2ffd7-17f4-4506-8572-c1ea58c3f9a8\n",
        "(u'fb821608-35fd-4a45-a4b2-1a0537cee111', 0.5125857353767046)"
       ]
      },
      {
       "output_type": "stream",
       "stream": "stdout",
       "text": [
        "\n",
        "(u'36bfa85f-737b-41db-a8fc-b8825850ffc3', 0.5023550478089682)\n",
        "(u'16346cf4-4d2b-40ec-8393-0fc7296d92fe', 0.498390681351149)\n",
        "(u'5894dac5-0260-4175-b36e-e34680a859d6', 0.49712063799232203)\n",
        "(u'7cf0ea9d-86b9-4dad-ba9e-2355a64899ea', 0.4968137579202212)\n",
        "(u'e5ac8f62-521d-458e-adfe-26e410ecf06d', 0.48269010815593916)\n",
        "(u'ac7e838c-3d95-47c2-92a9-81767ad7c217', 0.4809400846422632)\n",
        "(u'a7bdc71f-697a-45d9-92b2-a01fbbe50272', 0.47930919260551297)\n",
        "(u'f4591a29-b59a-4160-8726-da8001b2c3d6', 0.4773319126183148)\n",
        "(u'6e17c8d1-2493-46cc-88d4-64b848a32593', 0.467754568543162)\n",
        "\n",
        "\n",
        "Recommendations:\n",
        "supertramp"
       ]
      },
      {
       "output_type": "stream",
       "stream": "stdout",
       "text": [
        "\n",
        "no respect"
       ]
      },
      {
       "output_type": "stream",
       "stream": "stdout",
       "text": [
        "\n",
        "papa roach"
       ]
      },
      {
       "output_type": "stream",
       "stream": "stdout",
       "text": [
        "\n",
        "the verve"
       ]
      },
      {
       "output_type": "stream",
       "stream": "stdout",
       "text": [
        "\n",
        "misfits"
       ]
      },
      {
       "output_type": "stream",
       "stream": "stdout",
       "text": [
        "\n",
        "simply red"
       ]
      },
      {
       "output_type": "stream",
       "stream": "stdout",
       "text": [
        "\n",
        "seventh avenue"
       ]
      },
      {
       "output_type": "stream",
       "stream": "stdout",
       "text": [
        "\n",
        "delta goodrem"
       ]
      },
      {
       "output_type": "stream",
       "stream": "stdout",
       "text": [
        "\n",
        "breaking benjamin"
       ]
      },
      {
       "output_type": "stream",
       "stream": "stdout",
       "text": [
        "\n",
        "she & him"
       ]
      },
      {
       "output_type": "stream",
       "stream": "stdout",
       "text": [
        "\n",
        "tex"
       ]
      },
      {
       "output_type": "stream",
       "stream": "stdout",
       "text": [
        "\n",
        "pavement"
       ]
      },
      {
       "output_type": "stream",
       "stream": "stdout",
       "text": [
        "\n",
        "the sonics"
       ]
      },
      {
       "output_type": "stream",
       "stream": "stdout",
       "text": [
        "\n",
        "gregorian"
       ]
      },
      {
       "output_type": "stream",
       "stream": "stdout",
       "text": [
        "\n",
        "angelo badalamenti"
       ]
      },
      {
       "output_type": "stream",
       "stream": "stdout",
       "text": [
        "\n",
        "m.i.a."
       ]
      },
      {
       "output_type": "stream",
       "stream": "stdout",
       "text": [
        "\n",
        "bernhard brink"
       ]
      },
      {
       "output_type": "stream",
       "stream": "stdout",
       "text": [
        "\n",
        "dying fetus"
       ]
      },
      {
       "output_type": "stream",
       "stream": "stdout",
       "text": [
        "\n",
        "verjnuarmu"
       ]
      },
      {
       "output_type": "stream",
       "stream": "stdout",
       "text": [
        "\n",
        "max richter"
       ]
      },
      {
       "output_type": "stream",
       "stream": "stdout",
       "text": [
        "\n"
       ]
      }
     ],
     "prompt_number": 15
    },
    {
     "cell_type": "code",
     "collapsed": false,
     "input": [
      "#It appears most of the time taken to give a recommendation actually comes from \n",
      "#translating artist_ids to artist_names"
     ],
     "language": "python",
     "metadata": {},
     "outputs": []
    },
    {
     "cell_type": "code",
     "collapsed": false,
     "input": [
      "recommend(\"0044f333cdbfa2439c277196656439ec7444de81\", limit=0.45)"
     ],
     "language": "python",
     "metadata": {},
     "outputs": [
      {
       "output_type": "stream",
       "stream": "stdout",
       "text": [
        "057aa66c-cf6e-499d-bda8-5adc47ad4197\n",
        "(u'eeb41a1e-4326-4d04-8c47-0f564ceecd68', 0.55472921982042)"
       ]
      },
      {
       "output_type": "stream",
       "stream": "stdout",
       "text": [
        "\n",
        "(u'fb7659b2-5ceb-45ac-be95-b0c1f832caec', 0.5068978425337299)\n",
        "(u'74251656-ec30-4052-9386-b00b5be1b74c', 0.49894021151053863)\n",
        "(u'638c86ec-c55b-45ce-bca2-00f2e7eb77dd', 0.47711737335355153)\n",
        "(u'02fc3032-e491-46b8-8742-9859e4906dcc', 0.47117952673615177)\n",
        "(u'606bf117-494f-4864-891f-09d63ff6aa4b', 0.4668925488827653)\n",
        "(u'0743b15a-3c32-48c8-ad58-cb325350befa', 0.43933551554221095)\n",
        "(u'31f91503-b010-4162-af5c-b2dece9d4c42', 0.43834316707931337)\n",
        "(u'db42c33b-be52-4c47-a932-56439210eb85', 0.42721761997577373)\n",
        "(u'a32e4aac-1db8-4dc6-be34-a813c4530627', 0.42518888331614485)\n",
        "\n",
        "\n",
        "c0b2500e-0cef-4130-869d-732b23ed9df5\n",
        "(u'69c045f9-2887-4400-a880-924e361b2e97', 0.5570713872354512)"
       ]
      },
      {
       "output_type": "stream",
       "stream": "stdout",
       "text": [
        "\n",
        "(u'eaefd603-84c1-4db4-a72b-0cb718a0cc07', 0.5448824792093147)\n",
        "(u'34cdf83c-0ba8-4411-814f-c3ef44588521', 0.5164738339959614)\n",
        "(u'ff44857a-5f7b-45e5-b1c3-aa76f98ce6b4', 0.4986355746734946)\n",
        "(u'966e0923-65fa-4904-ad78-3dab0e41444e', 0.49142525801193615)\n",
        "(u'99732060-9f50-48ee-94e6-6b62a6a80101', 0.4909687982872718)\n",
        "(u'3fef3bbc-53eb-46f8-8679-980d0c943c34', 0.49005699281229864)\n",
        "(u'ca48bfb8-37c5-4a04-9837-a07975ee0cd3', 0.47676807527304615)\n",
        "(u'917976a6-75b1-46af-b57b-71f13de20422', 0.47584993636498407)\n",
        "(u'bbcc9824-31c0-4c70-a7af-d24090ea161e', 0.4734109282618532)\n",
        "\n",
        "\n",
        "cf8b3b8c-118e-4136-8d1d-c37091173413\n",
        "(u'2cf7ba64-5f16-4382-be45-7f3ae2473e01', 0.5315607966223432)"
       ]
      },
      {
       "output_type": "stream",
       "stream": "stdout",
       "text": [
        "\n",
        "(u'48cb4248-889d-45ed-8462-acb29c002a8d', 0.5149109581177218)\n",
        "(u'5ba5734c-3537-4f9d-a3eb-597980292535', 0.49264148089470505)\n",
        "(u'963bcc5d-3666-4feb-b3df-2b1fbb672566', 0.48391582102878694)\n",
        "(u'fa3b825f-7c85-4377-b393-d28a2016e293', 0.4632066561174767)\n",
        "(u'c83907ee-8b5a-4547-8f68-96572243ea7f', 0.45241440365229546)\n",
        "(u'bc9e5155-c3b9-4e68-8d73-6ff12a15edbe', 0.43902646589269695)\n",
        "(u'b2a92fa4-ba29-431f-a9ea-08a2956e9b25', 0.4378841519533333)\n",
        "(u'b755836a-0cb6-4577-a678-55a5a6402d70', 0.43554385611838786)\n",
        "(u'b84a2115-ebc8-4a22-b787-e8f72783ebe1', 0.4347416978866886)\n",
        "\n",
        "\n",
        "b7ffd2af-418f-4be2-bdd1-22f8b48613da\n",
        "(u'919e82ff-f3f3-4b05-a7e9-c28d1c7ac981', 0.5369415915869796)"
       ]
      },
      {
       "output_type": "stream",
       "stream": "stdout",
       "text": [
        "\n",
        "(u'5b5673b5-63d1-4c46-b73b-15ba94fc0f08', 0.5235586939294278)\n",
        "(u'1f190f39-89cc-426f-ac40-56c31ebf306f', 0.5218246340303566)\n",
        "(u'0e1d8e50-0ad4-484f-950a-d7cc64beb172', 0.5145578650820688)\n",
        "(u'eabd8df4-03cd-4644-8ad1-f50fb952c567', 0.51154255276378)\n",
        "(u'ba9af8e5-c8b3-4038-93a0-ee1e935ebce4', 0.47430925397756096)\n",
        "(u'f75cbb81-e419-4146-9eed-d6fa69a5a267', 0.468603869309669)\n",
        "(u'1ce37ca9-709c-4bc5-8039-cf3ab6ad354f', 0.46740695511437497)\n",
        "(u'27d3ba79-e995-4a20-9ee1-18292cbc7a37', 0.4614715993979258)\n",
        "(u'8b7480fd-4a90-4ada-b8d2-8061307f49c0', 0.46090231461720094)\n",
        "\n",
        "\n",
        "630662ea-1c7d-4208-99fd-ba3afec20f0c\n",
        "(u'f8a5d80c-a6b7-414c-9482-c5d710171622', 0.5403461458817912)"
       ]
      },
      {
       "output_type": "stream",
       "stream": "stdout",
       "text": [
        "\n",
        "(u'cd08ab5e-a823-4985-975d-3a3438b9b5d5', 0.5320304905404337)\n",
        "(u'd4ad0149-d8ae-4105-8009-0221fce9ff35', 0.5313026277906782)\n",
        "(u'8a0e10a9-80c7-40e0-bf5b-89f1d57f9537', 0.5043817959166453)\n",
        "(u'8f831f50-e409-47c3-8598-71a61bc8cfb3', 0.4892578163436983)\n",
        "(u'65d01d0b-a34d-40dd-9ebe-0fd1d0adbe4c', 0.4869622475945349)\n",
        "(u'900041e6-03f9-4bc3-a4cd-68452dd1ea2d', 0.4756706719963625)\n",
        "(u'077bfa11-1d31-4467-bcfa-dd90c9d76f80', 0.4730109241648397)\n",
        "(u'cff55a5b-6d20-4593-920c-368abff17771', 0.4689336979996644)\n",
        "(u'd8f63b51-73e0-4f65-8bd3-bcfe6892fb0e', 0.4687175562128202)\n",
        "\n",
        "\n",
        "Recommendations:\n",
        "dulce pontes"
       ]
      },
      {
       "output_type": "stream",
       "stream": "stdout",
       "text": [
        "\n",
        "baroness"
       ]
      },
      {
       "output_type": "stream",
       "stream": "stdout",
       "text": [
        "\n",
        "stephen malkmus"
       ]
      },
      {
       "output_type": "stream",
       "stream": "stdout",
       "text": [
        "\n",
        "caspian"
       ]
      },
      {
       "output_type": "stream",
       "stream": "stdout",
       "text": [
        "\n",
        "foxy shazam"
       ]
      },
      {
       "output_type": "stream",
       "stream": "stdout",
       "text": [
        "\n",
        "kashmir"
       ]
      },
      {
       "output_type": "stream",
       "stream": "stdout",
       "text": [
        "\n",
        "solitude aeturnus"
       ]
      },
      {
       "output_type": "stream",
       "stream": "stdout",
       "text": [
        "\n",
        "minutemen"
       ]
      },
      {
       "output_type": "stream",
       "stream": "stdout",
       "text": [
        "\n",
        "achillea"
       ]
      },
      {
       "output_type": "stream",
       "stream": "stdout",
       "text": [
        "\n",
        "the trashmen"
       ]
      },
      {
       "output_type": "stream",
       "stream": "stdout",
       "text": [
        "\n",
        "liza minnelli"
       ]
      },
      {
       "output_type": "stream",
       "stream": "stdout",
       "text": [
        "\n",
        "fleshgod apocalypse"
       ]
      },
      {
       "output_type": "stream",
       "stream": "stdout",
       "text": [
        "\n",
        "einherjer"
       ]
      },
      {
       "output_type": "stream",
       "stream": "stdout",
       "text": [
        "\n",
        "\u041f\u0438\u043a\u043d\u0438\u043a"
       ]
      },
      {
       "output_type": "stream",
       "stream": "stdout",
       "text": [
        "\n",
        "bongzilla"
       ]
      },
      {
       "output_type": "stream",
       "stream": "stdout",
       "text": [
        "\n",
        "iced earth"
       ]
      },
      {
       "output_type": "stream",
       "stream": "stdout",
       "text": [
        "\n",
        "area"
       ]
      },
      {
       "output_type": "stream",
       "stream": "stdout",
       "text": [
        "\n",
        "battlelore"
       ]
      },
      {
       "output_type": "stream",
       "stream": "stdout",
       "text": [
        "\n",
        "neuraxis"
       ]
      },
      {
       "output_type": "stream",
       "stream": "stdout",
       "text": [
        "\n",
        "otto dix"
       ]
      },
      {
       "output_type": "stream",
       "stream": "stdout",
       "text": [
        "\n"
       ]
      }
     ],
     "prompt_number": 20
    },
    {
     "cell_type": "code",
     "collapsed": false,
     "input": [],
     "language": "python",
     "metadata": {},
     "outputs": []
    }
   ],
   "metadata": {}
  }
 ]
}