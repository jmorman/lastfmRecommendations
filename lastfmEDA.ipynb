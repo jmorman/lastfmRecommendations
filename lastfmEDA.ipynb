{
 "metadata": {
  "name": ""
 },
 "nbformat": 3,
 "nbformat_minor": 0,
 "worksheets": [
  {
   "cells": [
    {
     "cell_type": "code",
     "collapsed": false,
     "input": [
      "%matplotlib inline\n",
      "import numpy as np\n",
      "import matplotlib.pyplot as plt\n",
      "import pandas as pd\n",
      "import seaborn as sns"
     ],
     "language": "python",
     "metadata": {},
     "outputs": [],
     "prompt_number": 1
    },
    {
     "cell_type": "code",
     "collapsed": false,
     "input": [
      "sns.set()"
     ],
     "language": "python",
     "metadata": {},
     "outputs": [],
     "prompt_number": 2
    },
    {
     "cell_type": "heading",
     "level": 3,
     "metadata": {},
     "source": [
      "Users Dataset EDA"
     ]
    },
    {
     "cell_type": "code",
     "collapsed": false,
     "input": [
      "#Only goes up to November 2009\n",
      "listeners_df = pd.read_csv(\"lastfm-dataset-360K/usersha1-profile.tsv\", sep='\\t')\n",
      "print listeners_df.columns\n",
      "listeners_df.head()"
     ],
     "language": "python",
     "metadata": {},
     "outputs": [
      {
       "output_type": "stream",
       "stream": "stdout",
       "text": [
        "Index([u'user_id', u'user_gender', u'user_age', u'user_country', u'user_signup_date'], dtype='object')\n"
       ]
      },
      {
       "html": [
        "<div style=\"max-height:1000px;max-width:1500px;overflow:auto;\">\n",
        "<table border=\"1\" class=\"dataframe\">\n",
        "  <thead>\n",
        "    <tr style=\"text-align: right;\">\n",
        "      <th></th>\n",
        "      <th>user_id</th>\n",
        "      <th>user_gender</th>\n",
        "      <th>user_age</th>\n",
        "      <th>user_country</th>\n",
        "      <th>user_signup_date</th>\n",
        "    </tr>\n",
        "  </thead>\n",
        "  <tbody>\n",
        "    <tr>\n",
        "      <th>0</th>\n",
        "      <td> 00000c289a1829a808ac09c00daf10bc3c4e223b</td>\n",
        "      <td>   f</td>\n",
        "      <td> 22</td>\n",
        "      <td>       Germany</td>\n",
        "      <td>  Feb 1, 2007</td>\n",
        "    </tr>\n",
        "    <tr>\n",
        "      <th>1</th>\n",
        "      <td> 00001411dc427966b17297bf4d69e7e193135d89</td>\n",
        "      <td>   f</td>\n",
        "      <td>NaN</td>\n",
        "      <td>        Canada</td>\n",
        "      <td>  Dec 4, 2007</td>\n",
        "    </tr>\n",
        "    <tr>\n",
        "      <th>2</th>\n",
        "      <td> 00004d2ac9316e22dc007ab2243d6fcb239e707d</td>\n",
        "      <td> NaN</td>\n",
        "      <td>NaN</td>\n",
        "      <td>       Germany</td>\n",
        "      <td>  Sep 1, 2006</td>\n",
        "    </tr>\n",
        "    <tr>\n",
        "      <th>3</th>\n",
        "      <td> 000063d3fe1cf2ba248b9e3c3f0334845a27a6bf</td>\n",
        "      <td>   m</td>\n",
        "      <td> 19</td>\n",
        "      <td>        Mexico</td>\n",
        "      <td> Apr 28, 2008</td>\n",
        "    </tr>\n",
        "    <tr>\n",
        "      <th>4</th>\n",
        "      <td> 00007a47085b9aab8af55f52ec8846ac479ac4fe</td>\n",
        "      <td>   m</td>\n",
        "      <td> 28</td>\n",
        "      <td> United States</td>\n",
        "      <td> Jan 27, 2006</td>\n",
        "    </tr>\n",
        "  </tbody>\n",
        "</table>\n",
        "<p>5 rows \u00d7 5 columns</p>\n",
        "</div>"
       ],
       "metadata": {},
       "output_type": "pyout",
       "prompt_number": 3,
       "text": [
        "                                    user_id user_gender  user_age  \\\n",
        "0  00000c289a1829a808ac09c00daf10bc3c4e223b           f        22   \n",
        "1  00001411dc427966b17297bf4d69e7e193135d89           f       NaN   \n",
        "2  00004d2ac9316e22dc007ab2243d6fcb239e707d         NaN       NaN   \n",
        "3  000063d3fe1cf2ba248b9e3c3f0334845a27a6bf           m        19   \n",
        "4  00007a47085b9aab8af55f52ec8846ac479ac4fe           m        28   \n",
        "\n",
        "    user_country user_signup_date  \n",
        "0        Germany      Feb 1, 2007  \n",
        "1         Canada      Dec 4, 2007  \n",
        "2        Germany      Sep 1, 2006  \n",
        "3         Mexico     Apr 28, 2008  \n",
        "4  United States     Jan 27, 2006  \n",
        "\n",
        "[5 rows x 5 columns]"
       ]
      }
     ],
     "prompt_number": 3
    },
    {
     "cell_type": "code",
     "collapsed": false,
     "input": [
      "import time\n",
      "import datetime\n",
      "#Convert dates to Unix time\n",
      "listeners_df.user_signup_date = listeners_df.user_signup_date.map(lambda x: \n",
      "                                                time.mktime(datetime.datetime.strptime(x, \"%b %d, %Y\").timetuple()))\n",
      "listeners_df.describe()                                 "
     ],
     "language": "python",
     "metadata": {},
     "outputs": [
      {
       "html": [
        "<div style=\"max-height:1000px;max-width:1500px;overflow:auto;\">\n",
        "<table border=\"1\" class=\"dataframe\">\n",
        "  <thead>\n",
        "    <tr style=\"text-align: right;\">\n",
        "      <th></th>\n",
        "      <th>user_age</th>\n",
        "      <th>user_signup_date</th>\n",
        "    </tr>\n",
        "  </thead>\n",
        "  <tbody>\n",
        "    <tr>\n",
        "      <th>count</th>\n",
        "      <td> 284447.000000</td>\n",
        "      <td> 3.593470e+05</td>\n",
        "    </tr>\n",
        "    <tr>\n",
        "      <th>mean</th>\n",
        "      <td>     25.098046</td>\n",
        "      <td> 1.185981e+09</td>\n",
        "    </tr>\n",
        "    <tr>\n",
        "      <th>std</th>\n",
        "      <td>     21.665742</td>\n",
        "      <td> 3.686621e+07</td>\n",
        "    </tr>\n",
        "    <tr>\n",
        "      <th>min</th>\n",
        "      <td>  -1337.000000</td>\n",
        "      <td> 1.035875e+09</td>\n",
        "    </tr>\n",
        "    <tr>\n",
        "      <th>25%</th>\n",
        "      <td>     20.000000</td>\n",
        "      <td> 1.161414e+09</td>\n",
        "    </tr>\n",
        "    <tr>\n",
        "      <th>50%</th>\n",
        "      <td>     23.000000</td>\n",
        "      <td> 1.191049e+09</td>\n",
        "    </tr>\n",
        "    <tr>\n",
        "      <th>75%</th>\n",
        "      <td>     28.000000</td>\n",
        "      <td> 1.216278e+09</td>\n",
        "    </tr>\n",
        "    <tr>\n",
        "      <th>max</th>\n",
        "      <td>   1002.000000</td>\n",
        "      <td> 1.257923e+09</td>\n",
        "    </tr>\n",
        "  </tbody>\n",
        "</table>\n",
        "<p>8 rows \u00d7 2 columns</p>\n",
        "</div>"
       ],
       "metadata": {},
       "output_type": "pyout",
       "prompt_number": 4,
       "text": [
        "            user_age  user_signup_date\n",
        "count  284447.000000      3.593470e+05\n",
        "mean       25.098046      1.185981e+09\n",
        "std        21.665742      3.686621e+07\n",
        "min     -1337.000000      1.035875e+09\n",
        "25%        20.000000      1.161414e+09\n",
        "50%        23.000000      1.191049e+09\n",
        "75%        28.000000      1.216278e+09\n",
        "max      1002.000000      1.257923e+09\n",
        "\n",
        "[8 rows x 2 columns]"
       ]
      }
     ],
     "prompt_number": 4
    },
    {
     "cell_type": "code",
     "collapsed": false,
     "input": [
      "#Impossible/improbable ages\n",
      "listeners_df[(listeners_df.user_age < 5) | (listeners_df.user_age > 100)].user_age"
     ],
     "language": "python",
     "metadata": {},
     "outputs": [
      {
       "metadata": {},
       "output_type": "pyout",
       "prompt_number": 5,
       "text": [
        "268        2\n",
        "468    -1337\n",
        "753        2\n",
        "856        3\n",
        "863        1\n",
        "1004       1\n",
        "1061     101\n",
        "1095       3\n",
        "1303     109\n",
        "1431       3\n",
        "1514     108\n",
        "1530       2\n",
        "1632       2\n",
        "1714       1\n",
        "1888       2\n",
        "...\n",
        "356503     109\n",
        "356903       2\n",
        "357352       3\n",
        "357354     101\n",
        "357366     109\n",
        "357411       2\n",
        "357474       2\n",
        "357598       1\n",
        "357688   -1337\n",
        "357824     106\n",
        "357918   -1337\n",
        "358043     108\n",
        "358320       1\n",
        "359150       1\n",
        "359179     108\n",
        "Name: user_age, Length: 2017, dtype: float64"
       ]
      }
     ],
     "prompt_number": 5
    },
    {
     "cell_type": "code",
     "collapsed": false,
     "input": [
      "num_males = listeners_df[listeners_df.user_gender == 'm'].user_id.count()\n",
      "num_females = listeners_df[listeners_df.user_gender == 'f'].user_id.count()\n",
      "num_nan = listeners_df.user_id.count() - num_males - num_females\n",
      "print \"Number of males: \" + str(num_males)\n",
      "print \"Number of females: \" + str(num_females)\n",
      "print \"NUmber of people with unspecified gender: \" + str(num_nan)"
     ],
     "language": "python",
     "metadata": {},
     "outputs": [
      {
       "output_type": "stream",
       "stream": "stdout",
       "text": [
        "Number of males: 241642\n",
        "Number of females: 84930\n",
        "NUmber of people with unspecified gender: 32775\n"
       ]
      }
     ],
     "prompt_number": 6
    },
    {
     "cell_type": "code",
     "collapsed": false,
     "input": [
      "plt.hist(listeners_df[(listeners_df.user_age > 8) & (listeners_df.user_age < 100)].user_age, bins=20)"
     ],
     "language": "python",
     "metadata": {},
     "outputs": [
      {
       "metadata": {},
       "output_type": "pyout",
       "prompt_number": 7,
       "text": [
        "(array([  4.89000000e+02,   1.99130000e+04,   1.09543000e+05,\n",
        "         6.61210000e+04,   4.32250000e+04,   1.72450000e+04,\n",
        "         1.24920000e+04,   4.74000000e+03,   3.57200000e+03,\n",
        "         1.74200000e+03,   1.34000000e+03,   5.78000000e+02,\n",
        "         3.78000000e+02,   1.91000000e+02,   1.01000000e+02,\n",
        "         6.90000000e+01,   4.80000000e+01,   8.70000000e+01,\n",
        "         9.50000000e+01,   1.18000000e+02]),\n",
        " array([  9. ,  13.5,  18. ,  22.5,  27. ,  31.5,  36. ,  40.5,  45. ,\n",
        "        49.5,  54. ,  58.5,  63. ,  67.5,  72. ,  76.5,  81. ,  85.5,\n",
        "        90. ,  94.5,  99. ]),\n",
        " <a list of 20 Patch objects>)"
       ]
      },
      {
       "metadata": {},
       "output_type": "display_data",
       "png": "[encoded data removed]",
       "text": [
        "<matplotlib.figure.Figure at 0x7fc50a0ebb50>"
       ]
      }
     ],
     "prompt_number": 7
    },
    {
     "cell_type": "code",
     "collapsed": false,
     "input": [
      "base_uts = listeners_df.user_signup_date.min()\n",
      "listeners_df['sec_elapsed'] = listeners_df['user_signup_date'] - base_uts"
     ],
     "language": "python",
     "metadata": {},
     "outputs": [],
     "prompt_number": 8
    },
    {
     "cell_type": "code",
     "collapsed": false,
     "input": [
      "#Plot number of people signing up every week /in dataset/\n",
      "df = listeners_df\n",
      "plt.figure(figsize=(20,5))\n",
      "start = 0\n",
      "interval = 60*60*24*7\n",
      "end = int(np.floor(listeners_df.sec_elapsed.max() / interval))\n",
      "plt.xlim(0, end-start)\n",
      "\n",
      "signups_per_week = []\n",
      "\n",
      "for i in range(start, end):\n",
      "    late_enough = df[(i*interval <= df['sec_elapsed'])] \n",
      "    and_early_enough = late_enough[late_enough['sec_elapsed'] < (i+1)*interval]\n",
      "    num_signups = and_early_enough.user_id.count()\n",
      "    signups_per_week.append(num_signups)\n",
      "    \n",
      "plt.plot(signups_per_week, marker='.')"
     ],
     "language": "python",
     "metadata": {},
     "outputs": [
      {
       "metadata": {},
       "output_type": "pyout",
       "prompt_number": 9,
       "text": [
        "[<matplotlib.lines.Line2D at 0x7fc50dd39b50>]"
       ]
      },
      {
       "metadata": {},
       "output_type": "display_data",
       "png": "[encoded data removed]",
       "text": [
        "<matplotlib.figure.Figure at 0x7fc535cb6590>"
       ]
      }
     ],
     "prompt_number": 9
    },
    {
     "cell_type": "code",
     "collapsed": false,
     "input": [
      "listeners_by_country = listeners_df.groupby('user_country').user_id.count()\n",
      "listeners_by_country.sort(ascending=False)\n",
      "print listeners_by_country"
     ],
     "language": "python",
     "metadata": {},
     "outputs": [
      {
       "output_type": "stream",
       "stream": "stdout",
       "text": [
        "user_country\n",
        "United States         67044\n",
        "Germany               31651\n",
        "United Kingdom        29902\n",
        "Poland                20987\n",
        "Russian Federation    19833\n",
        "Brazil                14534\n",
        "Sweden                13122\n",
        "Spain                 13051\n",
        "Finland               11579\n",
        "Netherlands            9650\n",
        "Canada                 8679\n",
        "France                 7529\n",
        "Italy                  7525\n",
        "Australia              7135\n",
        "Japan                  6637\n",
        "...\n",
        "Malawi                      6\n",
        "Belize                      6\n",
        "Eritrea                     6\n",
        "Mauritania                  5\n",
        "Central African Republic    5\n",
        "Sudan                       5\n",
        "Suriname                    5\n",
        "Guinea-Bissau               5\n",
        "Guyana                      5\n",
        "Marshall Islands            4\n",
        "French Guiana               4\n",
        "Gambia                      3\n",
        "Palau                       3\n",
        "Benin                       3\n",
        "Liberia                     3\n",
        "Length: 239, dtype: int64\n"
       ]
      }
     ],
     "prompt_number": 11
    },
    {
     "cell_type": "heading",
     "level": 3,
     "metadata": {},
     "source": [
      "User-Artist Dataset EDA"
     ]
    },
    {
     "cell_type": "code",
     "collapsed": false,
     "input": [
      "#Only read in first 500,000 to start out with\n",
      "df = pd.read_csv(\"./lastfm-dataset-360K/usersha1-artmbid-artname-plays.tsv\", nrows=500000, sep='\\t')\n",
      "df.head()"
     ],
     "language": "python",
     "metadata": {},
     "outputs": [
      {
       "html": [
        "<div style=\"max-height:1000px;max-width:1500px;overflow:auto;\">\n",
        "<table border=\"1\" class=\"dataframe\">\n",
        "  <thead>\n",
        "    <tr style=\"text-align: right;\">\n",
        "      <th></th>\n",
        "      <th>user_id</th>\n",
        "      <th>artist_id</th>\n",
        "      <th>artist_name</th>\n",
        "      <th>num_plays</th>\n",
        "    </tr>\n",
        "  </thead>\n",
        "  <tbody>\n",
        "    <tr>\n",
        "      <th>0</th>\n",
        "      <td> 00000c289a1829a808ac09c00daf10bc3c4e223b</td>\n",
        "      <td> 3bd73256-3905-4f3a-97e2-8b341527f805</td>\n",
        "      <td>      betty blowtorch</td>\n",
        "      <td> 2137</td>\n",
        "    </tr>\n",
        "    <tr>\n",
        "      <th>1</th>\n",
        "      <td> 00000c289a1829a808ac09c00daf10bc3c4e223b</td>\n",
        "      <td> f2fb0ff0-5679-42ec-a55c-15109ce6e320</td>\n",
        "      <td>            die \u00c4rzte</td>\n",
        "      <td> 1099</td>\n",
        "    </tr>\n",
        "    <tr>\n",
        "      <th>2</th>\n",
        "      <td> 00000c289a1829a808ac09c00daf10bc3c4e223b</td>\n",
        "      <td> b3ae82c2-e60b-4551-a76d-6620f1b456aa</td>\n",
        "      <td>    melissa etheridge</td>\n",
        "      <td>  897</td>\n",
        "    </tr>\n",
        "    <tr>\n",
        "      <th>3</th>\n",
        "      <td> 00000c289a1829a808ac09c00daf10bc3c4e223b</td>\n",
        "      <td> 3d6bbeb7-f90e-4d10-b440-e153c0d10b53</td>\n",
        "      <td>            elvenking</td>\n",
        "      <td>  717</td>\n",
        "    </tr>\n",
        "    <tr>\n",
        "      <th>4</th>\n",
        "      <td> 00000c289a1829a808ac09c00daf10bc3c4e223b</td>\n",
        "      <td> bbd2ffd7-17f4-4506-8572-c1ea58c3f9a8</td>\n",
        "      <td> juliette &amp; the licks</td>\n",
        "      <td>  706</td>\n",
        "    </tr>\n",
        "  </tbody>\n",
        "</table>\n",
        "<p>5 rows \u00d7 4 columns</p>\n",
        "</div>"
       ],
       "metadata": {},
       "output_type": "pyout",
       "prompt_number": 12,
       "text": [
        "                                    user_id  \\\n",
        "0  00000c289a1829a808ac09c00daf10bc3c4e223b   \n",
        "1  00000c289a1829a808ac09c00daf10bc3c4e223b   \n",
        "2  00000c289a1829a808ac09c00daf10bc3c4e223b   \n",
        "3  00000c289a1829a808ac09c00daf10bc3c4e223b   \n",
        "4  00000c289a1829a808ac09c00daf10bc3c4e223b   \n",
        "\n",
        "                              artist_id           artist_name  num_plays  \n",
        "0  3bd73256-3905-4f3a-97e2-8b341527f805       betty blowtorch       2137  \n",
        "1  f2fb0ff0-5679-42ec-a55c-15109ce6e320             die \u00c4rzte       1099  \n",
        "2  b3ae82c2-e60b-4551-a76d-6620f1b456aa     melissa etheridge        897  \n",
        "3  3d6bbeb7-f90e-4d10-b440-e153c0d10b53             elvenking        717  \n",
        "4  bbd2ffd7-17f4-4506-8572-c1ea58c3f9a8  juliette & the licks        706  \n",
        "\n",
        "[5 rows x 4 columns]"
       ]
      }
     ],
     "prompt_number": 12
    },
    {
     "cell_type": "code",
     "collapsed": false,
     "input": [
      "df[df.artist_name.map(lambda x: \"godspeed\" in x)][:10]"
     ],
     "language": "python",
     "metadata": {},
     "outputs": [
      {
       "html": [
        "<div style=\"max-height:1000px;max-width:1500px;overflow:auto;\">\n",
        "<table border=\"1\" class=\"dataframe\">\n",
        "  <thead>\n",
        "    <tr style=\"text-align: right;\">\n",
        "      <th></th>\n",
        "      <th>user_id</th>\n",
        "      <th>artist_id</th>\n",
        "      <th>artist_name</th>\n",
        "      <th>num_plays</th>\n",
        "    </tr>\n",
        "  </thead>\n",
        "  <tbody>\n",
        "    <tr>\n",
        "      <th>5133 </th>\n",
        "      <td> 001169ca4be3a1ed81e2f510039f3dcd663313e8</td>\n",
        "      <td> 3648db01-b29d-4ab9-835c-83f6a5068fe4</td>\n",
        "      <td> godspeed you! black emperor</td>\n",
        "      <td>   50</td>\n",
        "    </tr>\n",
        "    <tr>\n",
        "      <th>13539</th>\n",
        "      <td> 00306c1586e1a065617536f60f7b0037a0e4fed8</td>\n",
        "      <td> 3648db01-b29d-4ab9-835c-83f6a5068fe4</td>\n",
        "      <td> godspeed you! black emperor</td>\n",
        "      <td>  255</td>\n",
        "    </tr>\n",
        "    <tr>\n",
        "      <th>14854</th>\n",
        "      <td> 003545eeefd0234524aadaaf5602c0b863ed06bc</td>\n",
        "      <td> 3648db01-b29d-4ab9-835c-83f6a5068fe4</td>\n",
        "      <td> godspeed you! black emperor</td>\n",
        "      <td>   14</td>\n",
        "    </tr>\n",
        "    <tr>\n",
        "      <th>23424</th>\n",
        "      <td> 0056071d50398fcc4ccd367904ea5274103b4719</td>\n",
        "      <td> 3648db01-b29d-4ab9-835c-83f6a5068fe4</td>\n",
        "      <td> godspeed you! black emperor</td>\n",
        "      <td> 1053</td>\n",
        "    </tr>\n",
        "    <tr>\n",
        "      <th>27911</th>\n",
        "      <td> 006520a4f3fae59b56427912581b40fac26a6548</td>\n",
        "      <td> 3648db01-b29d-4ab9-835c-83f6a5068fe4</td>\n",
        "      <td> godspeed you! black emperor</td>\n",
        "      <td>    1</td>\n",
        "    </tr>\n",
        "    <tr>\n",
        "      <th>28267</th>\n",
        "      <td> 00673f4ea054aae8bf4761d35ce93ae2b24e305c</td>\n",
        "      <td> 3648db01-b29d-4ab9-835c-83f6a5068fe4</td>\n",
        "      <td> godspeed you! black emperor</td>\n",
        "      <td>    1</td>\n",
        "    </tr>\n",
        "    <tr>\n",
        "      <th>29840</th>\n",
        "      <td> 006d03db6b3c0d3a1269697d89e9528c08bea8c8</td>\n",
        "      <td> 3648db01-b29d-4ab9-835c-83f6a5068fe4</td>\n",
        "      <td> godspeed you! black emperor</td>\n",
        "      <td>   77</td>\n",
        "    </tr>\n",
        "    <tr>\n",
        "      <th>38352</th>\n",
        "      <td> 008f7a869d7e53e315d0c010348512b4161aed34</td>\n",
        "      <td> 3648db01-b29d-4ab9-835c-83f6a5068fe4</td>\n",
        "      <td> godspeed you! black emperor</td>\n",
        "      <td>   37</td>\n",
        "    </tr>\n",
        "    <tr>\n",
        "      <th>43893</th>\n",
        "      <td> 00a4b764e34ca2dff771ec64a7d56d0bbead9885</td>\n",
        "      <td> 3648db01-b29d-4ab9-835c-83f6a5068fe4</td>\n",
        "      <td> godspeed you! black emperor</td>\n",
        "      <td>  192</td>\n",
        "    </tr>\n",
        "    <tr>\n",
        "      <th>47713</th>\n",
        "      <td> 00b1955adf74806dcc7bd3f62f9b5ff6ed678f06</td>\n",
        "      <td> 3648db01-b29d-4ab9-835c-83f6a5068fe4</td>\n",
        "      <td> godspeed you! black emperor</td>\n",
        "      <td>   18</td>\n",
        "    </tr>\n",
        "  </tbody>\n",
        "</table>\n",
        "<p>10 rows \u00d7 4 columns</p>\n",
        "</div>"
       ],
       "metadata": {},
       "output_type": "pyout",
       "prompt_number": 14,
       "text": [
        "                                        user_id  \\\n",
        "5133   001169ca4be3a1ed81e2f510039f3dcd663313e8   \n",
        "13539  00306c1586e1a065617536f60f7b0037a0e4fed8   \n",
        "14854  003545eeefd0234524aadaaf5602c0b863ed06bc   \n",
        "23424  0056071d50398fcc4ccd367904ea5274103b4719   \n",
        "27911  006520a4f3fae59b56427912581b40fac26a6548   \n",
        "28267  00673f4ea054aae8bf4761d35ce93ae2b24e305c   \n",
        "29840  006d03db6b3c0d3a1269697d89e9528c08bea8c8   \n",
        "38352  008f7a869d7e53e315d0c010348512b4161aed34   \n",
        "43893  00a4b764e34ca2dff771ec64a7d56d0bbead9885   \n",
        "47713  00b1955adf74806dcc7bd3f62f9b5ff6ed678f06   \n",
        "\n",
        "                                  artist_id                  artist_name  \\\n",
        "5133   3648db01-b29d-4ab9-835c-83f6a5068fe4  godspeed you! black emperor   \n",
        "13539  3648db01-b29d-4ab9-835c-83f6a5068fe4  godspeed you! black emperor   \n",
        "14854  3648db01-b29d-4ab9-835c-83f6a5068fe4  godspeed you! black emperor   \n",
        "23424  3648db01-b29d-4ab9-835c-83f6a5068fe4  godspeed you! black emperor   \n",
        "27911  3648db01-b29d-4ab9-835c-83f6a5068fe4  godspeed you! black emperor   \n",
        "28267  3648db01-b29d-4ab9-835c-83f6a5068fe4  godspeed you! black emperor   \n",
        "29840  3648db01-b29d-4ab9-835c-83f6a5068fe4  godspeed you! black emperor   \n",
        "38352  3648db01-b29d-4ab9-835c-83f6a5068fe4  godspeed you! black emperor   \n",
        "43893  3648db01-b29d-4ab9-835c-83f6a5068fe4  godspeed you! black emperor   \n",
        "47713  3648db01-b29d-4ab9-835c-83f6a5068fe4  godspeed you! black emperor   \n",
        "\n",
        "       num_plays  \n",
        "5133          50  \n",
        "13539        255  \n",
        "14854         14  \n",
        "23424       1053  \n",
        "27911          1  \n",
        "28267          1  \n",
        "29840         77  \n",
        "38352         37  \n",
        "43893        192  \n",
        "47713         18  \n",
        "\n",
        "[10 rows x 4 columns]"
       ]
      }
     ],
     "prompt_number": 14
    },
    {
     "cell_type": "code",
     "collapsed": false,
     "input": [
      "#Some NaN artist_ids\n",
      "#According to http://mtg.upf.edu/node/1671, >1/3 artists in dataset do not have MBID\n",
      "#But, in this 500k sample, <2% of all rows contain id-less artists\n",
      "#This suggests that we can remove artists not having mbids from the recommendation system, because data on those \n",
      "#artists is so sparse that we couldn't form a good recommendation from them anyway\n",
      "print len(df[df.artist_id.map(lambda x: not isinstance(x, str))])\n",
      "df[df.artist_id.map(lambda x: not isinstance(x, str))].head(5) "
     ],
     "language": "python",
     "metadata": {},
     "outputs": [
      {
       "output_type": "stream",
       "stream": "stdout",
       "text": [
        "6447\n"
       ]
      },
      {
       "html": [
        "<div style=\"max-height:1000px;max-width:1500px;overflow:auto;\">\n",
        "<table border=\"1\" class=\"dataframe\">\n",
        "  <thead>\n",
        "    <tr style=\"text-align: right;\">\n",
        "      <th></th>\n",
        "      <th>user_id</th>\n",
        "      <th>artist_id</th>\n",
        "      <th>artist_name</th>\n",
        "      <th>num_plays</th>\n",
        "    </tr>\n",
        "  </thead>\n",
        "  <tbody>\n",
        "    <tr>\n",
        "      <th>158</th>\n",
        "      <td> 000063d3fe1cf2ba248b9e3c3f0334845a27a6bf</td>\n",
        "      <td> NaN</td>\n",
        "      <td>  rock universal</td>\n",
        "      <td> 14</td>\n",
        "    </tr>\n",
        "    <tr>\n",
        "      <th>241</th>\n",
        "      <td> 00007a47085b9aab8af55f52ec8846ac479ac4fe</td>\n",
        "      <td> NaN</td>\n",
        "      <td> apes &amp; androids</td>\n",
        "      <td> 67</td>\n",
        "    </tr>\n",
        "    <tr>\n",
        "      <th>441</th>\n",
        "      <td> 0000f687d4fe9c1ed49620fbc5ed5b0d7798ea20</td>\n",
        "      <td> NaN</td>\n",
        "      <td>  fondo flamenco</td>\n",
        "      <td>  3</td>\n",
        "    </tr>\n",
        "    <tr>\n",
        "      <th>499</th>\n",
        "      <td> 0001399387da41d557219578fb08b12afa25ab67</td>\n",
        "      <td> NaN</td>\n",
        "      <td>     id software</td>\n",
        "      <td> 31</td>\n",
        "    </tr>\n",
        "    <tr>\n",
        "      <th>605</th>\n",
        "      <td> 0001a57568309b287363e72dc682e9a170ba6dc2</td>\n",
        "      <td> NaN</td>\n",
        "      <td>     haircut 100</td>\n",
        "      <td> 83</td>\n",
        "    </tr>\n",
        "  </tbody>\n",
        "</table>\n",
        "<p>5 rows \u00d7 4 columns</p>\n",
        "</div>"
       ],
       "metadata": {},
       "output_type": "pyout",
       "prompt_number": 15,
       "text": [
        "                                      user_id artist_id      artist_name  \\\n",
        "158  000063d3fe1cf2ba248b9e3c3f0334845a27a6bf       NaN   rock universal   \n",
        "241  00007a47085b9aab8af55f52ec8846ac479ac4fe       NaN  apes & androids   \n",
        "441  0000f687d4fe9c1ed49620fbc5ed5b0d7798ea20       NaN   fondo flamenco   \n",
        "499  0001399387da41d557219578fb08b12afa25ab67       NaN      id software   \n",
        "605  0001a57568309b287363e72dc682e9a170ba6dc2       NaN      haircut 100   \n",
        "\n",
        "     num_plays  \n",
        "158         14  \n",
        "241         67  \n",
        "441          3  \n",
        "499         31  \n",
        "605         83  \n",
        "\n",
        "[5 rows x 4 columns]"
       ]
      }
     ],
     "prompt_number": 15
    },
    {
     "cell_type": "code",
     "collapsed": false,
     "input": [
      "#Furthermore, some artist names have multiple artist ids, perhaps because there are some instances of \n",
      "#multiple different artists with the same artist name\n",
      "for artist in df[:750].artist_name.unique():\n",
      "    artist_df = df[:750][df.artist_name == artist]\n",
      "    artist_id = list(artist_df.artist_id)[0]\n",
      "    differing = artist_df[artist_df.artist_id.map(lambda x: x != artist_id)]\n",
      "    if len(differing) > 0:\n",
      "        #print str(list(differing.artist_name)[0])+ '\\n' + str(artist_id) + '\\n' + str(list(differing.artist_id)[0])\\\n",
      "        print str(list(differing.artist_name)[0])"
     ],
     "language": "python",
     "metadata": {},
     "outputs": [
      {
       "output_type": "stream",
       "stream": "stdout",
       "text": [
        "rock universal\n",
        "apes & androids"
       ]
      },
      {
       "output_type": "stream",
       "stream": "stdout",
       "text": [
        "\n",
        "beck"
       ]
      },
      {
       "output_type": "stream",
       "stream": "stdout",
       "text": [
        "\n",
        "fondo flamenco"
       ]
      },
      {
       "output_type": "stream",
       "stream": "stdout",
       "text": [
        "\n",
        "id software"
       ]
      },
      {
       "output_type": "stream",
       "stream": "stdout",
       "text": [
        "\n",
        "haircut 100"
       ]
      },
      {
       "output_type": "stream",
       "stream": "stdout",
       "text": [
        "\n",
        "flying lotus - (www.influencias-urbanas.blogspot.com)"
       ]
      },
      {
       "output_type": "stream",
       "stream": "stdout",
       "text": [
        "\n",
        "ambassad\u00f6\u00f6r"
       ]
      },
      {
       "output_type": "stream",
       "stream": "stdout",
       "text": [
        "\n"
       ]
      }
     ],
     "prompt_number": 19
    },
    {
     "cell_type": "code",
     "collapsed": false,
     "input": [
      "#Example of multiple ids for the same name\n",
      "df[:750][df.artist_name == 'beck']"
     ],
     "language": "python",
     "metadata": {},
     "outputs": [
      {
       "html": [
        "<div style=\"max-height:1000px;max-width:1500px;overflow:auto;\">\n",
        "<table border=\"1\" class=\"dataframe\">\n",
        "  <thead>\n",
        "    <tr style=\"text-align: right;\">\n",
        "      <th></th>\n",
        "      <th>user_id</th>\n",
        "      <th>artist_id</th>\n",
        "      <th>artist_name</th>\n",
        "      <th>num_plays</th>\n",
        "    </tr>\n",
        "  </thead>\n",
        "  <tbody>\n",
        "    <tr>\n",
        "      <th>266</th>\n",
        "      <td> 0000c176103e538d5c9828e695fed4f7ae42dd01</td>\n",
        "      <td> 309c62ba-7a22-4277-9f67-4a162526d18a</td>\n",
        "      <td> beck</td>\n",
        "      <td> 332</td>\n",
        "    </tr>\n",
        "    <tr>\n",
        "      <th>744</th>\n",
        "      <td> 000215d3060a5b0ab7b3c415d49ec579100d4c87</td>\n",
        "      <td> 1cc5adcd-1422-4b5c-a3cd-3ecd4f43f506</td>\n",
        "      <td> beck</td>\n",
        "      <td>   9</td>\n",
        "    </tr>\n",
        "  </tbody>\n",
        "</table>\n",
        "<p>2 rows \u00d7 4 columns</p>\n",
        "</div>"
       ],
       "metadata": {},
       "output_type": "pyout",
       "prompt_number": 20,
       "text": [
        "                                      user_id  \\\n",
        "266  0000c176103e538d5c9828e695fed4f7ae42dd01   \n",
        "744  000215d3060a5b0ab7b3c415d49ec579100d4c87   \n",
        "\n",
        "                                artist_id artist_name  num_plays  \n",
        "266  309c62ba-7a22-4277-9f67-4a162526d18a        beck        332  \n",
        "744  1cc5adcd-1422-4b5c-a3cd-3ecd4f43f506        beck          9  \n",
        "\n",
        "[2 rows x 4 columns]"
       ]
      }
     ],
     "prompt_number": 20
    },
    {
     "cell_type": "code",
     "collapsed": false,
     "input": [
      "#More peaked than I would have expected\n",
      "num_artists_listened_to = df.groupby('user_id').artist_id.count()\n",
      "plt.hist(num_artists_listened_to, bins=30)"
     ],
     "language": "python",
     "metadata": {},
     "outputs": [
      {
       "metadata": {},
       "output_type": "pyout",
       "prompt_number": 21,
       "text": [
        "(array([  1.20000000e+01,   9.00000000e+00,   2.30000000e+01,\n",
        "         2.00000000e+01,   1.80000000e+01,   4.90000000e+01,\n",
        "         7.40000000e+01,   1.09000000e+02,   1.61000000e+02,\n",
        "         3.69000000e+02,   7.32000000e+02,   1.90100000e+03,\n",
        "         3.16200000e+03,   1.80400000e+03,   7.71000000e+02,\n",
        "         4.57000000e+02,   2.55000000e+02,   1.09000000e+02,\n",
        "         7.20000000e+01,   5.80000000e+01,   2.90000000e+01,\n",
        "         1.30000000e+01,   1.50000000e+01,   6.00000000e+00,\n",
        "         3.00000000e+00,   3.00000000e+00,   0.00000000e+00,\n",
        "         2.00000000e+00,   0.00000000e+00,   1.00000000e+00]),\n",
        " array([   1.        ,    4.76666667,    8.53333333,   12.3       ,\n",
        "         16.06666667,   19.83333333,   23.6       ,   27.36666667,\n",
        "         31.13333333,   34.9       ,   38.66666667,   42.43333333,\n",
        "         46.2       ,   49.96666667,   53.73333333,   57.5       ,\n",
        "         61.26666667,   65.03333333,   68.8       ,   72.56666667,\n",
        "         76.33333333,   80.1       ,   83.86666667,   87.63333333,\n",
        "         91.4       ,   95.16666667,   98.93333333,  102.7       ,\n",
        "        106.46666667,  110.23333333,  114.        ]),\n",
        " <a list of 30 Patch objects>)"
       ]
      },
      {
       "metadata": {},
       "output_type": "display_data",
       "png": "[encoded data removed]",
       "text": [
        "<matplotlib.figure.Figure at 0x7fc50ddd3d90>"
       ]
      }
     ],
     "prompt_number": 21
    },
    {
     "cell_type": "code",
     "collapsed": false,
     "input": [
      "#This makes more sense\n",
      "num_listeners = df.groupby('artist_id').user_id.count()\n",
      "plt.yscale('log', nonposy='clip')\n",
      "plt.hist(num_listeners, bins=30)"
     ],
     "language": "python",
     "metadata": {},
     "outputs": [
      {
       "metadata": {},
       "output_type": "pyout",
       "prompt_number": 22,
       "text": [
        "(array([  4.84520000e+04,   6.09000000e+02,   2.06000000e+02,\n",
        "         1.23000000e+02,   6.60000000e+01,   3.50000000e+01,\n",
        "         1.80000000e+01,   2.40000000e+01,   1.90000000e+01,\n",
        "         9.00000000e+00,   1.00000000e+01,   9.00000000e+00,\n",
        "         8.00000000e+00,   4.00000000e+00,   1.00000000e+00,\n",
        "         2.00000000e+00,   0.00000000e+00,   3.00000000e+00,\n",
        "         1.00000000e+00,   0.00000000e+00,   0.00000000e+00,\n",
        "         0.00000000e+00,   0.00000000e+00,   0.00000000e+00,\n",
        "         0.00000000e+00,   1.00000000e+00,   0.00000000e+00,\n",
        "         0.00000000e+00,   0.00000000e+00,   2.00000000e+00]),\n",
        " array([  1.00000000e+00,   7.43000000e+01,   1.47600000e+02,\n",
        "         2.20900000e+02,   2.94200000e+02,   3.67500000e+02,\n",
        "         4.40800000e+02,   5.14100000e+02,   5.87400000e+02,\n",
        "         6.60700000e+02,   7.34000000e+02,   8.07300000e+02,\n",
        "         8.80600000e+02,   9.53900000e+02,   1.02720000e+03,\n",
        "         1.10050000e+03,   1.17380000e+03,   1.24710000e+03,\n",
        "         1.32040000e+03,   1.39370000e+03,   1.46700000e+03,\n",
        "         1.54030000e+03,   1.61360000e+03,   1.68690000e+03,\n",
        "         1.76020000e+03,   1.83350000e+03,   1.90680000e+03,\n",
        "         1.98010000e+03,   2.05340000e+03,   2.12670000e+03,\n",
        "         2.20000000e+03]),\n",
        " <a list of 30 Patch objects>)"
       ]
      },
      {
       "metadata": {},
       "output_type": "display_data",
       "png": "[encoded data removed]",
       "text": [
        "<matplotlib.figure.Figure at 0x7fc50c541ed0>"
       ]
      }
     ],
     "prompt_number": 22
    },
    {
     "cell_type": "code",
     "collapsed": false,
     "input": [
      "#For each user and each artist the user listened to, how many times they listened to that artist\n",
      "plt.yscale('log', nonposy='clip')\n",
      "plt.hist(df.num_plays, bins=30)"
     ],
     "language": "python",
     "metadata": {},
     "outputs": [
      {
       "metadata": {},
       "output_type": "pyout",
       "prompt_number": 24,
       "text": [
        "(array([  4.99123000e+05,   6.81000000e+02,   1.17000000e+02,\n",
        "         3.60000000e+01,   1.70000000e+01,   9.00000000e+00,\n",
        "         4.00000000e+00,   2.00000000e+00,   2.00000000e+00,\n",
        "         2.00000000e+00,   1.00000000e+00,   1.00000000e+00,\n",
        "         1.00000000e+00,   2.00000000e+00,   0.00000000e+00,\n",
        "         0.00000000e+00,   0.00000000e+00,   0.00000000e+00,\n",
        "         0.00000000e+00,   0.00000000e+00,   0.00000000e+00,\n",
        "         0.00000000e+00,   0.00000000e+00,   1.00000000e+00,\n",
        "         0.00000000e+00,   0.00000000e+00,   0.00000000e+00,\n",
        "         0.00000000e+00,   0.00000000e+00,   1.00000000e+00]),\n",
        " array([  1.00000000e+00,   4.51403333e+03,   9.02706667e+03,\n",
        "         1.35401000e+04,   1.80531333e+04,   2.25661667e+04,\n",
        "         2.70792000e+04,   3.15922333e+04,   3.61052667e+04,\n",
        "         4.06183000e+04,   4.51313333e+04,   4.96443667e+04,\n",
        "         5.41574000e+04,   5.86704333e+04,   6.31834667e+04,\n",
        "         6.76965000e+04,   7.22095333e+04,   7.67225667e+04,\n",
        "         8.12356000e+04,   8.57486333e+04,   9.02616667e+04,\n",
        "         9.47747000e+04,   9.92877333e+04,   1.03800767e+05,\n",
        "         1.08313800e+05,   1.12826833e+05,   1.17339867e+05,\n",
        "         1.21852900e+05,   1.26365933e+05,   1.30878967e+05,\n",
        "         1.35392000e+05]),\n",
        " <a list of 30 Patch objects>)"
       ]
      },
      {
       "metadata": {},
       "output_type": "display_data",
       "png": "[encoded data removed]",
       "text": [
        "<matplotlib.figure.Figure at 0x7fc50c299210>"
       ]
      }
     ],
     "prompt_number": 24
    },
    {
     "cell_type": "code",
     "collapsed": false,
     "input": [
      "#Same plot as before without extreme values\n",
      "plt.yscale('log', nonposy='clip')\n",
      "plt.hist(df[df.num_plays < 12000].num_plays, bins=20)"
     ],
     "language": "python",
     "metadata": {},
     "outputs": [
      {
       "metadata": {},
       "output_type": "pyout",
       "prompt_number": 25,
       "text": [
        "(array([  4.64597000e+05,   2.39650000e+04,   5.91000000e+03,\n",
        "         2.41300000e+03,   1.07500000e+03,   6.27000000e+02,\n",
        "         3.77000000e+02,   2.61000000e+02,   1.75000000e+02,\n",
        "         1.14000000e+02,   8.50000000e+01,   6.80000000e+01,\n",
        "         6.00000000e+01,   3.90000000e+01,   3.10000000e+01,\n",
        "         3.40000000e+01,   2.00000000e+01,   1.60000000e+01,\n",
        "         2.10000000e+01,   9.00000000e+00]),\n",
        " array([  1.00000000e+00,   5.98350000e+02,   1.19570000e+03,\n",
        "         1.79305000e+03,   2.39040000e+03,   2.98775000e+03,\n",
        "         3.58510000e+03,   4.18245000e+03,   4.77980000e+03,\n",
        "         5.37715000e+03,   5.97450000e+03,   6.57185000e+03,\n",
        "         7.16920000e+03,   7.76655000e+03,   8.36390000e+03,\n",
        "         8.96125000e+03,   9.55860000e+03,   1.01559500e+04,\n",
        "         1.07533000e+04,   1.13506500e+04,   1.19480000e+04]),\n",
        " <a list of 20 Patch objects>)"
       ]
      },
      {
       "metadata": {},
       "output_type": "display_data",
       "png": "[encoded data removed]",
       "text": [
        "<matplotlib.figure.Figure at 0x7fc50c4f5210>"
       ]
      }
     ],
     "prompt_number": 25
    },
    {
     "cell_type": "code",
     "collapsed": false,
     "input": [
      "#\"Common support\": For each pair of artists, the number of people who have listened to both of them\n",
      "#Result is artists^2 in size, so will be SLOW \n",
      "#1k mini_df, 1k num_sample: ~9 minutes\n",
      "#10k mini_df, 1k num_sample: ~22 minutes\n",
      "#100k mini_df, 100 num_sample: ~1.5 minutes\n",
      "#500k mini_df, 100 num_sample: ~6 minutes\n",
      "#Can approximate by only looking at part of the enumeration (but still scanning whole tables for those pairs)\n",
      "#(As is done here)\n",
      "mini_df = df[0:500000]\n",
      "artists = mini_df.artist_id.unique()\n",
      "supports = []\n",
      "k=0\n",
      "num_sample = 100\n",
      "for i, artist1 in list(enumerate(artists))[0:num_sample]:\n",
      "    for j, artist2 in list(enumerate(artists))[0:num_sample]:\n",
      "        if i < j: #Don't want to count both (artist_a, artist_b) and (artist_b, artist_a)\n",
      "            artist1_listeners = mini_df[mini_df.artist_id==artist1].user_id.unique()\n",
      "            artist2_listeners = mini_df[mini_df.artist_id==artist2].user_id.unique()\n",
      "            common_listeners = set(artist1_listeners).intersection(artist2_listeners)\n",
      "            supports.append(len(common_listeners))\n",
      "            k = k + 1\n",
      "            if (k % (num_sample*num_sample/20) == 0):\n",
      "                print str(k)\n",
      "print \"Mean support is: \", np.mean(supports)\n",
      "plt.hist(supports, bins=20)"
     ],
     "language": "python",
     "metadata": {},
     "outputs": [
      {
       "output_type": "stream",
       "stream": "stdout",
       "text": [
        "500\n",
        "1000"
       ]
      },
      {
       "output_type": "stream",
       "stream": "stdout",
       "text": [
        "\n",
        "1500"
       ]
      },
      {
       "output_type": "stream",
       "stream": "stdout",
       "text": [
        "\n",
        "2000"
       ]
      },
      {
       "output_type": "stream",
       "stream": "stdout",
       "text": [
        "\n",
        "2500"
       ]
      },
      {
       "output_type": "stream",
       "stream": "stdout",
       "text": [
        "\n",
        "3000"
       ]
      },
      {
       "output_type": "stream",
       "stream": "stdout",
       "text": [
        "\n",
        "3500"
       ]
      },
      {
       "output_type": "stream",
       "stream": "stdout",
       "text": [
        "\n",
        "4000"
       ]
      },
      {
       "output_type": "stream",
       "stream": "stdout",
       "text": [
        "\n",
        "4500"
       ]
      },
      {
       "output_type": "stream",
       "stream": "stdout",
       "text": [
        "\n",
        "Mean support is: "
       ]
      },
      {
       "output_type": "stream",
       "stream": "stdout",
       "text": [
        " 5.68444444444\n"
       ]
      },
      {
       "metadata": {},
       "output_type": "pyout",
       "prompt_number": 26,
       "text": [
        "(array([  4.73700000e+03,   1.11000000e+02,   4.00000000e+01,\n",
        "         1.20000000e+01,   1.40000000e+01,   8.00000000e+00,\n",
        "         8.00000000e+00,   7.00000000e+00,   3.00000000e+00,\n",
        "         3.00000000e+00,   2.00000000e+00,   1.00000000e+00,\n",
        "         1.00000000e+00,   0.00000000e+00,   1.00000000e+00,\n",
        "         0.00000000e+00,   0.00000000e+00,   1.00000000e+00,\n",
        "         0.00000000e+00,   1.00000000e+00]),\n",
        " array([   0.  ,   27.15,   54.3 ,   81.45,  108.6 ,  135.75,  162.9 ,\n",
        "        190.05,  217.2 ,  244.35,  271.5 ,  298.65,  325.8 ,  352.95,\n",
        "        380.1 ,  407.25,  434.4 ,  461.55,  488.7 ,  515.85,  543.  ]),\n",
        " <a list of 20 Patch objects>)"
       ]
      },
      {
       "metadata": {},
       "output_type": "display_data",
       "png": "[encoded data removed]",
       "text": [
        "<matplotlib.figure.Figure at 0x7fc50c5424d0>"
       ]
      }
     ],
     "prompt_number": 26
    },
    {
     "cell_type": "code",
     "collapsed": false,
     "input": [
      "lowsupports = [support for support in supports if support < 10]\n",
      "plt.hist(lowsupports, bins=10)"
     ],
     "language": "python",
     "metadata": {},
     "outputs": [
      {
       "metadata": {},
       "output_type": "pyout",
       "prompt_number": 27,
       "text": [
        "(array([ 1791.,  1602.,   406.,   217.,   133.,    82.,    69.,    62.,\n",
        "          47.,    42.]),\n",
        " array([ 0. ,  0.9,  1.8,  2.7,  3.6,  4.5,  5.4,  6.3,  7.2,  8.1,  9. ]),\n",
        " <a list of 10 Patch objects>)"
       ]
      },
      {
       "metadata": {},
       "output_type": "display_data",
       "png": "[encoded data removed]",
       "text": [
        "<matplotlib.figure.Figure at 0x7fc509700ad0>"
       ]
      }
     ],
     "prompt_number": 27
    }
   ],
   "metadata": {}
  }
 ]
}